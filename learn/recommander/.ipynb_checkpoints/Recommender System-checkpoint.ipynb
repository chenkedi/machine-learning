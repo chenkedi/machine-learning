{
 "cells": [
  {
   "cell_type": "code",
   "execution_count": 1,
   "metadata": {
    "collapsed": true
   },
   "outputs": [],
   "source": [
    "import matplotlib.pyplot as plt\n",
    "import pandas as pd\n",
    "import numpy as np\n",
    "import seaborn as sns\n",
    "%matplotlib inline"
   ]
  },
  {
   "cell_type": "markdown",
   "metadata": {},
   "source": [
    "# 第2章 利用用户行为数据\n",
    "## 2.2 用户行为分析"
   ]
  },
  {
   "cell_type": "markdown",
   "metadata": {},
   "source": [
    "### 2.2.1 用户活跃度和物品流行度分布"
   ]
  },
  {
   "cell_type": "code",
   "execution_count": 2,
   "metadata": {},
   "outputs": [
    {
     "data": {
      "text/html": [
       "<div>\n",
       "<style scoped>\n",
       "    .dataframe tbody tr th:only-of-type {\n",
       "        vertical-align: middle;\n",
       "    }\n",
       "\n",
       "    .dataframe tbody tr th {\n",
       "        vertical-align: top;\n",
       "    }\n",
       "\n",
       "    .dataframe thead th {\n",
       "        text-align: right;\n",
       "    }\n",
       "</style>\n",
       "<table border=\"1\" class=\"dataframe\">\n",
       "  <thead>\n",
       "    <tr style=\"text-align: right;\">\n",
       "      <th></th>\n",
       "      <th>userId</th>\n",
       "      <th>movieId</th>\n",
       "      <th>rating</th>\n",
       "    </tr>\n",
       "  </thead>\n",
       "  <tbody>\n",
       "    <tr>\n",
       "      <th>0</th>\n",
       "      <td>1</td>\n",
       "      <td>1193</td>\n",
       "      <td>5</td>\n",
       "    </tr>\n",
       "    <tr>\n",
       "      <th>1</th>\n",
       "      <td>1</td>\n",
       "      <td>661</td>\n",
       "      <td>3</td>\n",
       "    </tr>\n",
       "    <tr>\n",
       "      <th>2</th>\n",
       "      <td>1</td>\n",
       "      <td>914</td>\n",
       "      <td>3</td>\n",
       "    </tr>\n",
       "    <tr>\n",
       "      <th>3</th>\n",
       "      <td>1</td>\n",
       "      <td>3408</td>\n",
       "      <td>4</td>\n",
       "    </tr>\n",
       "    <tr>\n",
       "      <th>4</th>\n",
       "      <td>1</td>\n",
       "      <td>2355</td>\n",
       "      <td>5</td>\n",
       "    </tr>\n",
       "  </tbody>\n",
       "</table>\n",
       "</div>"
      ],
      "text/plain": [
       "   userId  movieId  rating\n",
       "0       1     1193       5\n",
       "1       1      661       3\n",
       "2       1      914       3\n",
       "3       1     3408       4\n",
       "4       1     2355       5"
      ]
     },
     "execution_count": 2,
     "metadata": {},
     "output_type": "execute_result"
    }
   ],
   "source": [
    "import util.movielen_reader as mr\n",
    "\n",
    "\n",
    "movielens_data,_ = mr.read_ratings_list(\"./data/ml-1m/ratings.dat\")\n",
    "movielens_df = pd.DataFrame(movielens_data, columns=['userId', 'movieId', 'rating'])\n",
    "movielens_df.head()\n",
    "# user_item_clicked = ((user, len(items)) for user, items in train.items())\n",
    "\n",
    "# item_clicked_user_num = dict()\n",
    "# for user, item_clicked in user_item_clicked:\n",
    "#     if item_clicked in item_clicked_user_num:\n",
    "#         item_clicked_user_num[item_clicked] = item_clicked_user_num[item_clicked] + 1\n",
    "#     else:\n",
    "#         item_clicked_user_num[item_clicked] = 1;\n",
    "\n",
    "\n"
   ]
  },
  {
   "cell_type": "markdown",
   "metadata": {},
   "source": [
    "### 物品流行度分布"
   ]
  },
  {
   "cell_type": "code",
   "execution_count": 27,
   "metadata": {},
   "outputs": [
    {
     "data": {
      "text/html": [
       "<div>\n",
       "<style scoped>\n",
       "    .dataframe tbody tr th:only-of-type {\n",
       "        vertical-align: middle;\n",
       "    }\n",
       "\n",
       "    .dataframe tbody tr th {\n",
       "        vertical-align: top;\n",
       "    }\n",
       "\n",
       "    .dataframe thead th {\n",
       "        text-align: right;\n",
       "    }\n",
       "</style>\n",
       "<table border=\"1\" class=\"dataframe\">\n",
       "  <thead>\n",
       "    <tr style=\"text-align: right;\">\n",
       "      <th></th>\n",
       "      <th>item_popularity</th>\n",
       "      <th>count</th>\n",
       "      <th>log_item_popularity</th>\n",
       "    </tr>\n",
       "  </thead>\n",
       "  <tbody>\n",
       "    <tr>\n",
       "      <th>0</th>\n",
       "      <td>1</td>\n",
       "      <td>114</td>\n",
       "      <td>0.000000</td>\n",
       "    </tr>\n",
       "    <tr>\n",
       "      <th>1</th>\n",
       "      <td>2</td>\n",
       "      <td>89</td>\n",
       "      <td>0.301030</td>\n",
       "    </tr>\n",
       "    <tr>\n",
       "      <th>2</th>\n",
       "      <td>3</td>\n",
       "      <td>42</td>\n",
       "      <td>0.477121</td>\n",
       "    </tr>\n",
       "    <tr>\n",
       "      <th>3</th>\n",
       "      <td>4</td>\n",
       "      <td>45</td>\n",
       "      <td>0.602060</td>\n",
       "    </tr>\n",
       "    <tr>\n",
       "      <th>4</th>\n",
       "      <td>5</td>\n",
       "      <td>39</td>\n",
       "      <td>0.698970</td>\n",
       "    </tr>\n",
       "  </tbody>\n",
       "</table>\n",
       "</div>"
      ],
      "text/plain": [
       "   item_popularity  count  log_item_popularity\n",
       "0                1    114             0.000000\n",
       "1                2     89             0.301030\n",
       "2                3     42             0.477121\n",
       "3                4     45             0.602060\n",
       "4                5     39             0.698970"
      ]
     },
     "execution_count": 27,
     "metadata": {},
     "output_type": "execute_result"
    }
   ],
   "source": [
    "# 注意此处生成器的使用\n",
    "movie_popularity = (\n",
    "    movielens_df[['userId', 'movieId']].groupby('movieId', as_index=False).count()\n",
    ")\n",
    "movie_popularity.rename(\n",
    "    # rename 貌似有更好的方法\n",
    "    mapper={'userId': 'item_popularity'},\n",
    "    axis = 1,\n",
    "    inplace=True\n",
    ")\n",
    "\n",
    "item_popularity_count = (\n",
    "    movie_popularity[['movieId', 'item_popularity']].groupby('item_popularity', as_index=False).count()\n",
    ")\n",
    "\n",
    "item_popularity_count.rename(\n",
    "    mapper={'movieId': 'count'},\n",
    "    axis = 1,\n",
    "    inplace = True\n",
    ")\n",
    "# 这里对物品流行度取log，是为了让数据集的长尾效应更为明显一点（log函数对于接近1的数，变化率较大，所以x轴前面的点分布的较为稀疏一些，能减缓前部陡峭的曲\n",
    "# 线下降趋势）\n",
    "item_popularity_count['log_item_popularity'] = np.log10(item_popularity_count['item_popularity'])\n",
    " \n",
    "item_popularity_count.head()"
   ]
  },
  {
   "cell_type": "code",
   "execution_count": 28,
   "metadata": {},
   "outputs": [
    {
     "data": {
      "image/png": "[encoded data removed]",
      "text/plain": [
       "<matplotlib.figure.Figure at 0x11da9a898>"
      ]
     },
     "metadata": {},
     "output_type": "display_data"
    }
   ],
   "source": [
    "sns.set_style('whitegrid')\n",
    "axe = sns.jointplot(x = 'log_item_popularity', y = 'count', data = item_popularity_count)"
   ]
  },
  {
   "cell_type": "markdown",
   "metadata": {},
   "source": [
    "### 用户活跃度分布"
   ]
  },
  {
   "cell_type": "code",
   "execution_count": 26,
   "metadata": {},
   "outputs": [
    {
     "data": {
      "text/html": [
       "<div>\n",
       "<style scoped>\n",
       "    .dataframe tbody tr th:only-of-type {\n",
       "        vertical-align: middle;\n",
       "    }\n",
       "\n",
       "    .dataframe tbody tr th {\n",
       "        vertical-align: top;\n",
       "    }\n",
       "\n",
       "    .dataframe thead th {\n",
       "        text-align: right;\n",
       "    }\n",
       "</style>\n",
       "<table border=\"1\" class=\"dataframe\">\n",
       "  <thead>\n",
       "    <tr style=\"text-align: right;\">\n",
       "      <th></th>\n",
       "      <th>user_active</th>\n",
       "      <th>count</th>\n",
       "      <th>log_user_active</th>\n",
       "    </tr>\n",
       "  </thead>\n",
       "  <tbody>\n",
       "    <tr>\n",
       "      <th>0</th>\n",
       "      <td>20</td>\n",
       "      <td>86</td>\n",
       "      <td>1.301030</td>\n",
       "    </tr>\n",
       "    <tr>\n",
       "      <th>1</th>\n",
       "      <td>21</td>\n",
       "      <td>91</td>\n",
       "      <td>1.322219</td>\n",
       "    </tr>\n",
       "    <tr>\n",
       "      <th>2</th>\n",
       "      <td>22</td>\n",
       "      <td>77</td>\n",
       "      <td>1.342423</td>\n",
       "    </tr>\n",
       "    <tr>\n",
       "      <th>3</th>\n",
       "      <td>23</td>\n",
       "      <td>81</td>\n",
       "      <td>1.361728</td>\n",
       "    </tr>\n",
       "    <tr>\n",
       "      <th>4</th>\n",
       "      <td>24</td>\n",
       "      <td>81</td>\n",
       "      <td>1.380211</td>\n",
       "    </tr>\n",
       "  </tbody>\n",
       "</table>\n",
       "</div>"
      ],
      "text/plain": [
       "   user_active  count  log_user_active\n",
       "0           20     86         1.301030\n",
       "1           21     91         1.322219\n",
       "2           22     77         1.342423\n",
       "3           23     81         1.361728\n",
       "4           24     81         1.380211"
      ]
     },
     "execution_count": 26,
     "metadata": {},
     "output_type": "execute_result"
    }
   ],
   "source": [
    "user_active = (\n",
    "    movielens_df[['userId', 'movieId']].groupby('userId', as_index=False).count()\n",
    ")\n",
    "user_active.rename(\n",
    "    mapper = {'movieId' : 'user_active'},\n",
    "    axis=1,\n",
    "    inplace=True\n",
    ")\n",
    "user_active_count = (\n",
    "    user_active[['userId', 'user_active']].groupby('user_active', as_index=False).count()\n",
    ")\n",
    "user_active_count.rename(\n",
    "    mapper = {'userId':'count'},\n",
    "    axis=1,\n",
    "    inplace=True\n",
    ")\n",
    "user_active_count['log_user_active'] = np.log10(user_active_count['user_active'])\n",
    "user_active_count.head()"
   ]
  },
  {
   "cell_type": "code",
   "execution_count": 29,
   "metadata": {},
   "outputs": [
    {
     "data": {
      "text/plain": [
       "<seaborn.axisgrid.JointGrid at 0x1214c17f0>"
      ]
     },
     "execution_count": 29,
     "metadata": {},
     "output_type": "execute_result"
    },
    {
     "data": {
      "image/png": "[encoded data removed]",
      "text/plain": [
       "<matplotlib.figure.Figure at 0x1214c1630>"
      ]
     },
     "metadata": {},
     "output_type": "display_data"
    }
   ],
   "source": [
    "sns.set_style('whitegrid')\n",
    "sns.jointplot(x = 'log_user_active', y = 'count', data = user_active_count)"
   ]
  },
  {
   "cell_type": "markdown",
   "metadata": {},
   "source": [
    "### 2.2.2 用户活跃度和物品流行度的关系"
   ]
  },
  {
   "cell_type": "code",
   "execution_count": 36,
   "metadata": {},
   "outputs": [
    {
     "data": {
      "text/html": [
       "<div>\n",
       "<style scoped>\n",
       "    .dataframe tbody tr th:only-of-type {\n",
       "        vertical-align: middle;\n",
       "    }\n",
       "\n",
       "    .dataframe tbody tr th {\n",
       "        vertical-align: top;\n",
       "    }\n",
       "\n",
       "    .dataframe thead th {\n",
       "        text-align: right;\n",
       "    }\n",
       "</style>\n",
       "<table border=\"1\" class=\"dataframe\">\n",
       "  <thead>\n",
       "    <tr style=\"text-align: right;\">\n",
       "      <th></th>\n",
       "      <th>user_active</th>\n",
       "      <th>item_popularity</th>\n",
       "    </tr>\n",
       "  </thead>\n",
       "  <tbody>\n",
       "    <tr>\n",
       "      <th>0</th>\n",
       "      <td>20</td>\n",
       "      <td>1090.568605</td>\n",
       "    </tr>\n",
       "    <tr>\n",
       "      <th>1</th>\n",
       "      <td>21</td>\n",
       "      <td>1066.130822</td>\n",
       "    </tr>\n",
       "    <tr>\n",
       "      <th>2</th>\n",
       "      <td>22</td>\n",
       "      <td>1105.563754</td>\n",
       "    </tr>\n",
       "    <tr>\n",
       "      <th>3</th>\n",
       "      <td>23</td>\n",
       "      <td>1151.621041</td>\n",
       "    </tr>\n",
       "    <tr>\n",
       "      <th>4</th>\n",
       "      <td>24</td>\n",
       "      <td>1107.236111</td>\n",
       "    </tr>\n",
       "  </tbody>\n",
       "</table>\n",
       "</div>"
      ],
      "text/plain": [
       "   user_active  item_popularity\n",
       "0           20      1090.568605\n",
       "1           21      1066.130822\n",
       "2           22      1105.563754\n",
       "3           23      1151.621041\n",
       "4           24      1107.236111"
      ]
     },
     "execution_count": 36,
     "metadata": {},
     "output_type": "execute_result"
    }
   ],
   "source": [
    "#(用户ID， 用户活跃度)\n",
    "user_active = (\n",
    "    movielens_df[['userId', 'movieId']].groupby('userId', as_index=False).count()\n",
    ")\n",
    "user_active.rename(\n",
    "    mapper = {'movieId' : 'user_active'},\n",
    "    axis=1,\n",
    "    inplace=True\n",
    ")\n",
    "\n",
    "#（电影ID， 电影流行度）\n",
    "movie_popularity = (\n",
    "    movielens_df[['userId', 'movieId']].groupby('movieId', as_index=False).count()\n",
    ")\n",
    "movie_popularity.rename(\n",
    "    # rename 貌似有更好的方法\n",
    "    mapper={'userId': 'item_popularity'},\n",
    "    axis = 1,\n",
    "    inplace=True\n",
    ")\n",
    "\n",
    "combine = pd.merge(left=user_active, right = movielens_df[['userId', 'movieId']], on='userId')\n",
    "combine = pd.merge(left=combine, right=movie_popularity, on='movieId')\n",
    "user_active_avg_item_popularity = (\n",
    "    combine[['user_active', 'item_popularity']].groupby('user_active', as_index=False).mean()\n",
    ")\n",
    "user_active_avg_item_popularity.head()"
   ]
  },
  {
   "cell_type": "code",
   "execution_count": 37,
   "metadata": {},
   "outputs": [
    {
     "data": {
      "text/plain": [
       "<seaborn.axisgrid.JointGrid at 0x1214ab9e8>"
      ]
     },
     "execution_count": 37,
     "metadata": {},
     "output_type": "execute_result"
    },
    {
     "data": {
      "image/png": "[encoded data removed]",
      "text/plain": [
       "<matplotlib.figure.Figure at 0x121858da0>"
      ]
     },
     "metadata": {},
     "output_type": "display_data"
    }
   ],
   "source": [
    "sns.set_style('whitegrid')\n",
    "sns.jointplot(x='user_active', y='item_popularity', data=user_active_avg_item_popularity)"
   ]
  },
  {
   "cell_type": "markdown",
   "metadata": {},
   "source": [
    "## 2.3 实验设计和算法评测\n",
    "### 2.3.1 数据集\n",
    "数据集为Movilens中等大小数据集，包含6000多用户对4000多部电影的100万条评分\n",
    "$M = 6000, N = 4000, K = 1000000$\n",
    "### 2.3.2 实验设计\n",
    "- 使用交叉测试方法，将数据分为M份（取M = 8）， 挑选一份作为测试集，剩下的M-1分作为训练集\n",
    "- 需进行M次实验，每次都使用不同的测试集，然后以M次实验测出的评测指标的平均值作为最终的评价指标\n",
    "### 2.3.3 评测指标\n",
    "- 准确率/召回率\n",
    "- 覆盖率（简单的覆盖率）\n",
    "- 新颖度（以推荐列表中物品的平均流行度度量推荐结果的新颖度）"
   ]
  },
  {
   "cell_type": "markdown",
   "metadata": {},
   "source": [
    "## 2.4 基于邻域的算法\n",
    "### 2.4.1 User-Based Collaborative filtering"
   ]
  },
  {
   "cell_type": "markdown",
   "metadata": {},
   "source": [
    "### Load data"
   ]
  },
  {
   "cell_type": "code",
   "execution_count": 7,
   "metadata": {},
   "outputs": [],
   "source": [
    "# {userId : {movieId: rating}}\n",
    "movielens_train, movielens_test = mr.read_ratings(\"./data/ml-1m/ratings.dat\", pivot=0.8)"
   ]
  },
  {
   "cell_type": "code",
   "execution_count": 6,
   "metadata": {},
   "outputs": [
    {
     "name": "stdout",
     "output_type": "stream",
     "text": [
      "生成物品倒排表......\n",
      "生成倒排表耗时:0.14296603202819824\n",
      "生成用户相似度矩阵.....\n",
      "生成用户相似度矩阵耗时:12.473166942596436\n",
      "训练完成\n"
     ]
    }
   ],
   "source": [
    "from cf.UserCF import UserCF\n",
    "\n",
    "ucf = UserCF(movielens_train)\n",
    "ucf.train_model()"
   ]
  },
  {
   "cell_type": "code",
   "execution_count": 7,
   "metadata": {},
   "outputs": [
    {
     "data": {
      "text/plain": [
       "{'1610': 0.3089789864732348,\n",
       " '1617': 0.32345575518770686,\n",
       " '1673': 0.28680639203504554,\n",
       " '2278': 0.3769229707847994,\n",
       " '2599': 0.5405644056475329,\n",
       " '318': 0.3995959969870601,\n",
       " '3253': 0.2989999815136826,\n",
       " '3301': 0.27570751575805386,\n",
       " '3751': 0.28386740273682987,\n",
       " '50': 0.39398791206524536}"
      ]
     },
     "execution_count": 7,
     "metadata": {},
     "output_type": "execute_result"
    }
   ],
   "source": [
    "ucf.recommand('20', 10)"
   ]
  },
  {
   "cell_type": "markdown",
   "metadata": {},
   "source": [
    "### 2.4.2 Item-Based Collaborative filtering"
   ]
  },
  {
   "cell_type": "code",
   "execution_count": null,
   "metadata": {},
   "outputs": [
    {
     "name": "stdout",
     "output_type": "stream",
     "text": [
      "生成物品相似度矩阵....\n"
     ]
    }
   ],
   "source": [
    "from cf.ItemCF import ItemCF\n",
    "icf = ItemCF(movielens_train)\n",
    "icf.train_model()"
   ]
  },
  {
   "cell_type": "code",
   "execution_count": 6,
   "metadata": {},
   "outputs": [
    {
     "data": {
      "text/plain": [
       "{'1527': 0.16528733213769872,\n",
       " '1573': 0.1668788085924658,\n",
       " '1668': 0.17076563027923655,\n",
       " '2001': 0.17970766908273247,\n",
       " '204': 0.17374508176598352,\n",
       " '2490': 0.17257149502913383,\n",
       " '2617': 0.18120157521139568,\n",
       " '2997': 0.16919966299703168,\n",
       " '3274': 0.1667770547867661,\n",
       " '480': 0.19124605777413847}"
      ]
     },
     "execution_count": 6,
     "metadata": {},
     "output_type": "execute_result"
    }
   ],
   "source": [
    "icf.recommend('20', 10)"
   ]
  }
 ],
 "metadata": {
  "kernelspec": {
   "display_name": "Python 3",
   "language": "python",
   "name": "python3"
  },
  "language_info": {
   "codemirror_mode": {
    "name": "ipython",
    "version": 3
   },
   "file_extension": ".py",
   "mimetype": "text/x-python",
   "name": "python",
   "nbconvert_exporter": "python",
   "pygments_lexer": "ipython3",
   "version": "3.6.1"
  }
 },
 "nbformat": 4,
 "nbformat_minor": 1
}
