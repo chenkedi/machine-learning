{
 "cells": [
  {
   "cell_type": "code",
   "execution_count": 4,
   "metadata": {},
   "outputs": [],
   "source": [
    "import tensorflow as tf\n",
    "import pandas as pd\n",
    "import matplotlib.pyplot as plt\n",
    "import numpy as np\n",
    "import zipfile\n",
    "import seaborn as sns\n",
    "\n",
    "from sklearn.preprocessing import Imputer\n",
    "from sklearn.preprocessing import PolynomialFeatures\n",
    "from sklearn.preprocessing import StandardScaler\n",
    "from sklearn.feature_selection import VarianceThreshold\n",
    "from sklearn.feature_selection import SelectFromModel\n",
    "from sklearn.utils import shuffle\n",
    "from sklearn.ensemble import RandomForestClassifier\n",
    "from io import BytesIO\n",
    "\n",
    "pd.set_option('display.max_columns', 100)\n",
    "%matplotlib inline"
   ]
  },
  {
   "cell_type": "code",
   "execution_count": null,
   "metadata": {},
   "outputs": [
    {
     "name": "stdout",
     "output_type": "stream",
     "text": [
      "['testA/', 'testA/user.zip', 'testA/ad_operation.dat', 'testA/imps_log.zip', 'testA/test_sample.dat', 'testA/ad_static_feature.out']\n"
     ]
    }
   ],
   "source": [
    "user = []\n",
    "ad_operation = []\n",
    "imps_log = []\n",
    "test_sample = []\n",
    "ad_static_feature = []\n",
    "with zipfile.ZipFile(\"data/algo_junior_a.zip\") as f:\n",
    "  print(f.namelist())\n",
    "  for name in f.namelist():\n",
    "    if name == 'testA/user.zip':\n",
    "      raw_data = BytesIO(f.read(name))\n",
    "      with zipfile.ZipFile(raw_data) as f_:\n",
    "        user = tf.compat.as_str(f_.read(f_.namelist()[0]))\n",
    "    \n",
    "    if name == 'testA/imps_log.zip':\n",
    "      raw_data = BytesIO(f.read(name))\n",
    "      with zipfile.ZipFile(raw_data) as f_:\n",
    "        imps_log = tf.compat.as_str(f_.read(f_.namelist()[0]))\n",
    "    \n",
    "    if name == 'testA/ad_operation.dat':\n",
    "      ad_operation = tf.compat.as_str(f.read(name))\n",
    "    if name == 'testA/test_sample.dat':\n",
    "      test_sample = tf.compat.as_str(f.read(name))\n",
    "    if name == 'testA/ad_static_feature.out':\n",
    "      test_sample = tf.compat.as_str(f.read(name))"
   ]
  },
  {
   "cell_type": "code",
   "execution_count": null,
   "metadata": {
    "collapsed": true
   },
   "outputs": [],
   "source": [
    "!htop\n"
   ]
  },
  {
   "cell_type": "code",
   "execution_count": null,
   "metadata": {
    "collapsed": true
   },
   "outputs": [],
   "source": []
  }
 ],
 "metadata": {
  "kernelspec": {
   "display_name": "Python 3",
   "language": "python",
   "name": "python3"
  },
  "language_info": {
   "codemirror_mode": {
    "name": "ipython",
    "version": 3
   },
   "file_extension": ".py",
   "mimetype": "text/x-python",
   "name": "python",
   "nbconvert_exporter": "python",
   "pygments_lexer": "ipython3",
   "version": "3.6.3"
  }
 },
 "nbformat": 4,
 "nbformat_minor": 2
}
