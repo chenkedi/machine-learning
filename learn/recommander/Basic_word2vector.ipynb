{
 "cells": [
  {
   "cell_type": "code",
   "execution_count": 1,
   "metadata": {},
   "outputs": [
    {
     "name": "stderr",
     "output_type": "stream",
     "text": [
      "/opt/conda/envs/tensorflow/lib/python3.6/importlib/_bootstrap.py:219: RuntimeWarning: compiletime version 3.5 of module 'tensorflow.python.framework.fast_tensor_util' does not match runtime version 3.6\n",
      "  return f(*args, **kwds)\n"
     ]
    }
   ],
   "source": [
    "import collections\n",
    "import math\n",
    "import os\n",
    "import sys\n",
    "import argparse\n",
    "import random\n",
    "from tempfile import gettempdir\n",
    "import zipfile\n",
    "\n",
    "import numpy as np\n",
    "from six.moves import urllib\n",
    "from six.moves import xrange  # pylint: disable=redefined-builtin\n",
    "import tensorflow as tf\n",
    "\n",
    "from tensorflow.contrib.tensorboard.plugins import projector"
   ]
  },
  {
   "cell_type": "code",
   "execution_count": 33,
   "metadata": {
    "collapsed": true
   },
   "outputs": [],
   "source": [
    "def read_data(filename):\n",
    "  \"\"\"Extract the first file enclosed in a zip file as a list of words.\"\"\"\n",
    "  with zipfile.ZipFile(filename) as f:\n",
    "    # zipfile读取文件后，得到文件名，再用f.read得到bytes。python3中bytes是对应编码的，这里应该是默认的utf-8\n",
    "    # 再使用tensorflow的as_str进行解码后，切分为单词list。as_str将bytes或者unicode均解码为unicode，且能兼容不同的python版本\n",
    "    # compat的意思就是compatible\n",
    "#     print(type(f.read(f.namelist()[0])))\n",
    "    data = tf.compat.as_str(f.read(f.namelist()[0])).split()\n",
    "  return data"
   ]
  },
  {
   "cell_type": "code",
   "execution_count": 56,
   "metadata": {},
   "outputs": [
    {
     "name": "stdout",
     "output_type": "stream",
     "text": [
      "Data size 17005207\n"
     ]
    }
   ],
   "source": [
    "# 读取文件\n",
    "filename = 'data/text8.zip'\n",
    "vocabulary = read_data(filename)\n",
    "print('Data size', len(vocabulary))"
   ]
  },
  {
   "cell_type": "code",
   "execution_count": 45,
   "metadata": {
    "collapsed": true
   },
   "outputs": [],
   "source": [
    "# 通过给定的词典大小，将出现次数较少的单词设置为UNK词，从而缩小词典\n",
    "# 返回各个词在词典中的编号（codes），以及各词的词频等信息\n",
    "# data - list of codes (integers from 0 to vocabulary_size-1).\n",
    "#   This is the original text but words are replaced by their codes\n",
    "# count - map of words(strings) to count of occurrences\n",
    "# dictionary - map of words(strings) to their codes(integers)\n",
    "# reverse_dictionary - maps codes(integers) to words(strings)\n",
    "def build_dataset(words, n_words):\n",
    "  \"\"\"Process raw inputs into a dataset.\"\"\"\n",
    "  count = [['UNK', -1]]\n",
    "  count.extend(collections.Counter(words).most_common(n_words - 1))\n",
    "  # dictionary中存储每个单词到编号的映射\n",
    "  dictionary = dict()\n",
    "  for word, _ in count:\n",
    "    dictionary[word] = len(dictionary)\n",
    "  # data为存储所有单词编号的list\n",
    "  data = list()\n",
    "  # 将所有低频词的频率相加，作为UNK的频率\n",
    "  unk_count = 0\n",
    "  for word in words:\n",
    "    index = dictionary.get(word, 0)\n",
    "    if index == 0:  # dictionary['UNK']\n",
    "      unk_count += 1\n",
    "    data.append(index)\n",
    "  # 设置UNK的词频\n",
    "  count[0][1] = unk_count\n",
    "  reversed_dictionary = dict(zip(dictionary.values(), dictionary.keys()))\n",
    "  return data, count, dictionary, reversed_dictionary"
   ]
  },
  {
   "cell_type": "code",
   "execution_count": 57,
   "metadata": {},
   "outputs": [
    {
     "name": "stdout",
     "output_type": "stream",
     "text": [
      "Most common words (+UNK) [['UNK', 418391], ('the', 1061396), ('of', 593677), ('and', 416629), ('one', 411764)]\n",
      "Sample data [5234, 3081, 12, 6, 195, 2, 3134, 46, 59, 156] ['anarchism', 'originated', 'as', 'a', 'term', 'of', 'abuse', 'first', 'used', 'against']\n"
     ]
    }
   ],
   "source": [
    "# 生成词典和编号与词的映射\n",
    "vocabulary_size = 50000\n",
    "data, count, dictionary, reverse_dictionary = build_dataset(\n",
    "    vocabulary, vocabulary_size)\n",
    "# del vocabulary  # Hint to reduce memory.\n",
    "print('Most common words (+UNK)', count[:5])\n",
    "print('Sample data', data[:10], [reverse_dictionary[i] for i in data[:10]])\n",
    "\n"
   ]
  },
  {
   "cell_type": "code",
   "execution_count": 59,
   "metadata": {
    "collapsed": true
   },
   "outputs": [],
   "source": [
    "# Step 3: Function to generate a training batch for the skip-gram model.\n",
    "def generate_batch(batch_size, num_skips, skip_window):\n",
    "  global data_index\n",
    "  # 为何batch_size一定要能整除num_skips?\n",
    "  assert batch_size % num_skips == 0\n",
    "  assert num_skips <= 2 * skip_window\n",
    "  batch = np.ndarray(shape=(batch_size), dtype=np.int32)\n",
    "  labels = np.ndarray(shape=(batch_size, 1), dtype=np.int32)\n",
    "  span = 2 * skip_window + 1  # [ skip_window target skip_window ]\n",
    "  # 生成一个大小为span的双端队列\n",
    "  buffer = collections.deque(maxlen=span)  # pylint: disable=redefined-builtin\n",
    "  # 当前数据索引 + 滑动窗口大小如果大于了data的长度，则从头开始\n",
    "  if data_index + span > len(data):\n",
    "    data_index = 0\n",
    "  # 初始化双端队列，设置为data中的第一个窗口[0 ~ span]，不包括span, list的特性是大于等于第一个索引，小于最后一个索引  \n",
    "  buffer.extend(data[data_index:data_index + span])\n",
    "  data_index += span\n",
    "  # 总共需要生成batch_size个（contest，target)样本，分为batch_size // num_skips组，每组里面有num_skip个sample\n",
    "  for i in range(batch_size // num_skips): # 取整\n",
    "    # 由于 span一定是奇数，且一定以skip_window所在的位置为中心，所以可以以此获取context\n",
    "    context_words = [w for w in range(span) if w != skip_window]\n",
    "    # 从上下文词语中随机抽取num_skips个词语，用于生成一个batch中的一组sample\n",
    "    words_to_use = random.sample(context_words, num_skips)\n",
    "    for j, context_word in enumerate(words_to_use):\n",
    "      # batch里面的索引公式，提现了每组有nums_skips个sample，总共i组的推断\n",
    "      # COBOW由contexts推断target，即包含多个(contexts, target)组成的sample，如：([the, brown], quick), ([quick, fox], brown)\n",
    "      # 而skip-gram正好相反，由target预测某一个contex的概率，即：(quick, the), (quick, brown), (brown, quick), (brown, fox)\n",
    "      # 这里batch存储的是target单测的索引，lables存储的是对应的context word的索引，每一对batch-labels为一个正样本\n",
    "      batch[i * num_skips + j] = buffer[skip_window]\n",
    "      labels[i * num_skips + j, 0] = buffer[context_word]\n",
    "    # 若滑动窗口到了数据的结尾，则双端队列的滑动窗口又从0开始\n",
    "    if data_index == len(data):\n",
    "      buffer.extend(data[0:span])\n",
    "      data_index = span\n",
    "    else: # 否则的话，双端队列对应的窗口往前移动一位\n",
    "      buffer.append(data[data_index])\n",
    "      data_index += 1\n",
    "  # Backtrack a little bit to avoid skipping words in the end of a batch\n",
    "  # 将data_index往前回溯span个位置，防止下次采样跳过上次batch中结尾的单词\n",
    "  data_index = (data_index + len(data) - span) % len(data)\n",
    "  return batch, labels"
   ]
  },
  {
   "cell_type": "code",
   "execution_count": 61,
   "metadata": {},
   "outputs": [
    {
     "name": "stdout",
     "output_type": "stream",
     "text": [
      "3081 originated -> 5234 anarchism\n",
      "3081 originated -> 12 as\n",
      "12 as -> 3081 originated\n",
      "12 as -> 6 a\n",
      "6 a -> 12 as\n",
      "6 a -> 195 term\n",
      "195 term -> 6 a\n",
      "195 term -> 2 of\n"
     ]
    },
    {
     "data": {
      "text/plain": [
       "8"
      ]
     },
     "execution_count": 61,
     "metadata": {},
     "output_type": "execute_result"
    }
   ],
   "source": [
    "data_index = 0\n",
    "batch, labels = generate_batch(batch_size=8, num_skips=2, skip_window=1)\n",
    "for i in range(8):\n",
    "  print(batch[i], reverse_dictionary[batch[i]], '->', labels[i, 0],\n",
    "        reverse_dictionary[labels[i, 0]])\n",
    "len(batch)\n"
   ]
  },
  {
   "cell_type": "code",
   "execution_count": 66,
   "metadata": {},
   "outputs": [
    {
     "ename": "TypeError",
     "evalue": "reduce_sum() got an unexpected keyword argument 'keepdims'",
     "output_type": "error",
     "traceback": [
      "\u001b[0;31m---------------------------------------------------------------------------\u001b[0m",
      "\u001b[0;31mTypeError\u001b[0m                                 Traceback (most recent call last)",
      "\u001b[0;32m<ipython-input-66-27d33f9fd47b>\u001b[0m in \u001b[0;36m<module>\u001b[0;34m()\u001b[0m\n\u001b[1;32m     65\u001b[0m \u001b[0;34m\u001b[0m\u001b[0m\n\u001b[1;32m     66\u001b[0m   \u001b[0;31m# Compute the cosine similarity between minibatch examples and all embeddings.\u001b[0m\u001b[0;34m\u001b[0m\u001b[0;34m\u001b[0m\u001b[0m\n\u001b[0;32m---> 67\u001b[0;31m   \u001b[0mnorm\u001b[0m \u001b[0;34m=\u001b[0m \u001b[0mtf\u001b[0m\u001b[0;34m.\u001b[0m\u001b[0msqrt\u001b[0m\u001b[0;34m(\u001b[0m\u001b[0mtf\u001b[0m\u001b[0;34m.\u001b[0m\u001b[0mreduce_sum\u001b[0m\u001b[0;34m(\u001b[0m\u001b[0mtf\u001b[0m\u001b[0;34m.\u001b[0m\u001b[0msquare\u001b[0m\u001b[0;34m(\u001b[0m\u001b[0membeddings\u001b[0m\u001b[0;34m)\u001b[0m\u001b[0;34m,\u001b[0m \u001b[0;36m1\u001b[0m\u001b[0;34m,\u001b[0m \u001b[0mkeepdims\u001b[0m\u001b[0;34m=\u001b[0m\u001b[0;32mTrue\u001b[0m\u001b[0;34m)\u001b[0m\u001b[0;34m)\u001b[0m\u001b[0;34m\u001b[0m\u001b[0m\n\u001b[0m\u001b[1;32m     68\u001b[0m   \u001b[0mnormalized_embeddings\u001b[0m \u001b[0;34m=\u001b[0m \u001b[0membeddings\u001b[0m \u001b[0;34m/\u001b[0m \u001b[0mnorm\u001b[0m\u001b[0;34m\u001b[0m\u001b[0m\n\u001b[1;32m     69\u001b[0m   valid_embeddings = tf.nn.embedding_lookup(normalized_embeddings,\n",
      "\u001b[0;31mTypeError\u001b[0m: reduce_sum() got an unexpected keyword argument 'keepdims'"
     ]
    }
   ],
   "source": [
    "# Step 4: Build and train a skip-gram model.\n",
    "\n",
    "batch_size = 128\n",
    "embedding_size = 128  # Dimension of the embedding vector.\n",
    "skip_window = 1  # How many words to consider left and right.\n",
    "num_skips = 2  # How many times to reuse an input to generate a label.\n",
    "num_sampled = 64  # Number of negative examples to sample.\n",
    "\n",
    "# We pick a random validation set to sample nearest neighbors. Here we limit the\n",
    "# validation samples to the words that have a low numeric ID, which by\n",
    "# construction are also the most frequent. These 3 variables are used only for\n",
    "# displaying model accuracy, they don't affect calculation.\n",
    "valid_size = 16  # Random set of words to evaluate similarity on.\n",
    "valid_window = 100  # Only pick dev samples in the head of the distribution.\n",
    "valid_examples = np.random.choice(valid_window, valid_size, replace=False)\n",
    "\n",
    "graph = tf.Graph()\n",
    "\n",
    "with graph.as_default():\n",
    "\n",
    "  # Input data.\n",
    "  with tf.name_scope('inputs'):\n",
    "    train_inputs = tf.placeholder(tf.int32, shape=[batch_size])\n",
    "    train_labels = tf.placeholder(tf.int32, shape=[batch_size, 1])\n",
    "    valid_dataset = tf.constant(valid_examples, dtype=tf.int32)\n",
    "\n",
    "  # Ops and variables pinned to the CPU because of missing GPU implementation\n",
    "  with tf.device('/cpu:0'):\n",
    "    # Look up embeddings for inputs.\n",
    "    with tf.name_scope('embeddings'):\n",
    "      embeddings = tf.Variable(\n",
    "          tf.random_uniform([vocabulary_size, embedding_size], -1.0, 1.0))\n",
    "      embed = tf.nn.embedding_lookup(embeddings, train_inputs)\n",
    "\n",
    "    # Construct the variables for the NCE loss\n",
    "    with tf.name_scope('weights'):\n",
    "      nce_weights = tf.Variable(\n",
    "          tf.truncated_normal(\n",
    "              [vocabulary_size, embedding_size],\n",
    "              stddev=1.0 / math.sqrt(embedding_size)))\n",
    "    with tf.name_scope('biases'):\n",
    "      nce_biases = tf.Variable(tf.zeros([vocabulary_size]))\n",
    "\n",
    "  # Compute the average NCE loss for the batch.\n",
    "  # tf.nce_loss automatically draws a new sample of the negative labels each\n",
    "  # time we evaluate the loss.\n",
    "  # Explanation of the meaning of NCE loss:\n",
    "  #   http://mccormickml.com/2016/04/19/word2vec-tutorial-the-skip-gram-model/\n",
    "  with tf.name_scope('loss'):\n",
    "    loss = tf.reduce_mean(\n",
    "        tf.nn.nce_loss(\n",
    "            weights=nce_weights,\n",
    "            biases=nce_biases,\n",
    "            labels=train_labels,\n",
    "            inputs=embed,\n",
    "            num_sampled=num_sampled,\n",
    "            num_classes=vocabulary_size))\n",
    "\n",
    "  # Add the loss value as a scalar to summary.\n",
    "  tf.summary.scalar('loss', loss)\n",
    "\n",
    "  # Construct the SGD optimizer using a learning rate of 1.0.\n",
    "  with tf.name_scope('optimizer'):\n",
    "    optimizer = tf.train.GradientDescentOptimizer(1.0).minimize(loss)\n",
    "\n",
    "  # Compute the cosine similarity between minibatch examples and all embeddings.\n",
    "  norm = tf.sqrt(tf.reduce_sum(tf.square(embeddings), 1, keepdims=True))\n",
    "  normalized_embeddings = embeddings / norm\n",
    "  valid_embeddings = tf.nn.embedding_lookup(normalized_embeddings,\n",
    "                                            valid_dataset)\n",
    "  similarity = tf.matmul(\n",
    "      valid_embeddings, normalized_embeddings, transpose_b=True)\n",
    "\n",
    "  # Merge all summaries.\n",
    "  merged = tf.summary.merge_all()\n",
    "\n",
    "  # Add variable initializer.\n",
    "  init = tf.global_variables_initializer()\n",
    "\n",
    "  # Create a saver.\n",
    "  saver = tf.train.Saver()"
   ]
  },
  {
   "cell_type": "code",
   "execution_count": 65,
   "metadata": {},
   "outputs": [
    {
     "name": "stdout",
     "output_type": "stream",
     "text": [
      "\u001b[1B 90177\u001b[17;26H\u001b[31m\u001b[1m38.3G \u001b[m\u001b[36m5064M 2450M \u001b[m\u001b[mS 15.4  3.1 \u001b[31m\u001b[1m11h\u001b[m\u001b[m02:15 \u001b[32mpython train_ima\u001b[18;1H\u001b[m\u001b[m 90184\u001b[18;26H\u001b[31m\u001b[1m38.3G \u001b[m\u001b[36m5064M 2450M \u001b[m\u001b[mS 14.7  3.1 \u001b[31m\u001b[1m11h\u001b[m\u001b[m02:19 \u001b[32mpython train_ima\u001b[19;4H\u001b[m\u001b[m218\u001b[19;35H\u001b[36m4\u001b[19;47H\u001b[m\u001b[m4.7\u001b[6C\u001b[31m\u001b[1m 7h\u001b[m\u001b[m01:2\u001b[20;5H72\u001b[20;35H\u001b[36m4\u001b[20;47H\u001b[m\u001b[m4.7\u001b[20;62H36\u001b[21;4H210\u001b[21;35H\u001b[36m4\u001b[21;44H\u001b[32mR \u001b[m\u001b[m14.0\u001b[6C\u001b[31m\u001b[1m 7h\u001b[m\u001b[m01:54\u001b[22;5H69\u001b[22;35H\u001b[36m4\u001b[22;47H\u001b[m\u001b[m4.0\u001b[22;62H19\u001b[23;5H83\u001b[23;35H\u001b[36m4\u001b[23;44H\u001b[32mR \u001b[m\u001b[m14.0\u001b[6C\u001b[31m\u001b[1m11h\u001b[m\u001b[m02:47\u001b[H \u001b[m\u001b[36m5060M 2450M \u001b[m\u001b[mS 104.  3.1 \u001b[31m\u001b[1m 6h\u001b[m\u001b[m59:15 \u001b[32mpython train_ima\u001b[24;1H\u001b[m\u001b[mF1\u001b[30m\u001b[46mHelp  \u001b[m\u001b[mF2\u001b[30m\u001b[46mSetup \u001b[m\u001b[mF3\u001b[30m\u001b[46mSearch\u001b[m\u001b[mF4\u001b[30m\u001b[46mFilter\u001b[m\u001b[mF5\u001b[30m\u001b[46mTree  \u001b[m\u001b[mF6\u001b[30m\u001b[46mSortBy\u001b[m\u001b[mF7\u001b[30m\u001b[46mNice -\u001b[m\u001b[mF8\u001b[30m\u001b[46mNice +\u001b[m\u001b[mF9\u001b[30m\u001b[46mKill  \u001b[m\u001b[mF10\u001b[30m\u001b[46mQui\u001b[4ht\u001b[4l\u001b[H\u001b[m\u001b[m|||\u001b[30m\u001b[1m50.0%\u001b[m]\u001b[m   \u001b[36m17 \u001b[m\u001b[1m[\u001b[m\u001b[32m|||||100.0%\u001b[m\u001b[1m]\u001b[m   \u001b[36m23 \u001b[m\u001b[1m[\u001b[30m       0.0%\u001b[m]\u001b[7;3H\u001b[m\u001b[36m6  \u001b[m\u001b[1m[\u001b[m\u001b[32m||||||\u001b[30m\u001b[1m50.0%\u001b[m]\u001b[m   \u001b[36m12 \u001b[m\u001b[1m[\u001b[m\u001b[32m||||||\u001b[30m\u001b[1m50.0%\u001b[m]\u001b[m   \u001b[36m18 \u001b[m\u001b[1m[\u001b[m\u001b[32m|||||100.0%\u001b[m\u001b[1m]\u001b[m   \u001b[36m24 \u001b[m\u001b[1m[\u001b[30m       0.0%\u001b[m]\u001b[8;3H\u001b[m\u001b[36mMem\u001b[m\u001b[1m[\u001b[m\u001b[32m||||||||||||||\u001b[34m|\u001b[33m|||||72.4G/157G\u001b[m\u001b[1m]\u001b[m   \u001b[36mTasks: \u001b[1m17\u001b[m\u001b[36m, \u001b[32m\u001b[1m186\u001b[m\u001b[32m thr\u001b[36m; \u001b[32m\u001b[1m20\u001b[m\u001b[36m running\u001b[9;3HSwp\u001b[m\u001b[1m[\u001b[30m                         0K/0K\u001b[m]\u001b[m   \u001b[36mLoad average: \u001b[m\u001b[1m15.26 \u001b[36m13.26 \u001b[m\u001b[36m12.80 \u001b[10;41HUptime: \u001b[1m312 days(!), 14:15:29\u001b[2;10H\u001b[31m|\u001b[30m\u001b[1m  31.9\u001b[2;26H\u001b[m\u001b[32m||||\u001b[31m||\u001b[30m\u001b[1m43\u001b[2;45H\u001b[m\u001b[32m||\u001b[31m|\u001b[30m\u001b[1m   19\u001b[2;67H\u001b[m\u001b[31m|\u001b[30m\u001b[1m  26.1\u001b[3;7H\u001b[m\u001b[32m|||\u001b[31m|\u001b[30m\u001b[1m  29.6\u001b[3;29H\u001b[m\u001b[31m||\u001b[30m\u001b[1m 33.6%\u001b[3;47H\u001b[m\u001b[31m||\u001b[30m\u001b[1m  26.9\u001b[3;68H\u001b[m\u001b[31m||\u001b[30m\u001b[1m40.6%\u001b[4;9H\u001b[m\u001b[31m|\u001b[30m\u001b[1m   20.8%\u001b[4;29H\u001b[m\u001b[31m|\u001b[30m\u001b[1m  30.1\u001b[4;45H\u001b[m\u001b[32m|||\u001b[31m||\u001b[30m\u001b[1m 39.7\u001b[4;64H\u001b[m\u001b[32m||\u001b[31m|\u001b[30m\u001b[1m   17.6\u001b[5;10H\u001b[m\u001b[31m||\u001b[30m\u001b[1m 35.7\u001b[5;28H\u001b[m\u001b[31m|\u001b[30m\u001b[1m   25.5%\u001b[5;45H\u001b[m\u001b[32m||\u001b[31m|\u001b[30m\u001b[1m   19.6\u001b[5;64H\u001b[m\u001b[32m|\u001b[6;7H|||\u001b[31m|\u001b[30m\u001b[1m  30.5\u001b[6;29H\u001b[m\u001b[31m||\u001b[30m\u001b[1m 44.1\u001b[6;49H\u001b[m\u001b[31m|\u001b[30m\u001b[1m 36.6%\u001b[6;64H\u001b[m\u001b[32m|||\u001b[31m|\u001b[30m\u001b[1m  28.9\u001b[7;10H\u001b[m\u001b[31m|\u001b[30m\u001b[1m  27.6\u001b[7;29H\u001b[m\u001b[31m|||\u001b[30m\u001b[1m43.5\u001b[7;48H\u001b[m\u001b[31m|\u001b[30m\u001b[1m  27.3%\u001b[7;64H\u001b[m\u001b[32m|||\u001b[31m||\u001b[30m\u001b[1m 30.6\u001b[8;30H\u001b[m\u001b[33m5\u001b[8;61H\u001b[32m\u001b[1m9\u001b[m\u001b[m\u001b[1P\u001b[10;68H\u001b[36m\u001b[1m31\u001b[13;35H\u001b[m\u001b[30m\u001b[46m4\u001b[13;44HS 544.\u001b[2;10H\u001b[32m|\u001b[31m||\u001b[30m\u001b[1m42.3\u001b[2;29H\u001b[m\u001b[31m|\u001b[30m\u001b[1m  23.8\u001b[2;52H7.4\u001b[2;70H33.8\u001b[3;11H\u001b[m\u001b[31m|\u001b[30m\u001b[1m 34.7\u001b[3;30H  28.7\u001b[3;47H\u001b[m\u001b[32m|\u001b[31m||\u001b[30m\u001b[1m 31.0\u001b[3;67H\u001b[m\u001b[31m|\u001b[30m\u001b[1m  36.0\u001b[4;13H18.7\u001b[4;32H29.6\u001b[4;49H  33.6\u001b[4;66H\u001b[m\u001b[32m|\u001b[31m|\u001b[30m\u001b[1m  24.3\u001b[5;10H\u001b[m\u001b[32m|\u001b[31m||\u001b[30m\u001b[1m42.0\u001b[5;28H\u001b[m\u001b[32m||\u001b[31m|\u001b[30m\u001b[1m 35.0\u001b[5;47H\u001b[m\u001b[32m|\u001b[31m|\u001b[30m\u001b[1m  22.4\u001b[6;11H\u001b[m\u001b[31m|\u001b[30m\u001b[1m 33.1\u001b[6;33H0.4\u001b[6;48H\u001b[m\u001b[31m|\u001b[30m\u001b[1m  22.9\u001b[6;71H6.5\u001b[7;16H7\u001b[7;32H39.0\u001b[7;52H6.6\u001b[7;66H\u001b[m\u001b[31m||\u001b[30m\u001b[1m  31.1\u001b[8;30H\u001b[m\u001b[33m6\u001b[8;61H\u001b[32m\u001b[1m12\u001b[m\u001b[36m running\u001b[\u001b[1m2\u001b[13;29H\u001b[m\u001b[30m\u001b[46m4G 5069\u001b[13;47H5\u001b[14;33H\u001b[m\u001b[36m884\u001b[14;48H\u001b[m\u001b[m8\u001b[14;60H4.95\u001b[15;6H1\u001b[15;29H\u001b[31m\u001b[1m4G \u001b[m\u001b[36m5069\u001b[15;46H\u001b[m\u001b[m19.2\u001b[6C\u001b[31m\u001b[1m 6h\u001b[m\u001b[m56:18\u001b[16;4H220\u001b[16;29H\u001b[31m\u001b[1m4G \u001b[m\u001b[36m5069\u001b[16;44H\u001b[31m\u001b[1mD \u001b[m\u001b[m17.8\u001b[7C\u001b[31m\u001b[1m2h\u001b[m\u001b[m23:0\u001b[17;5H84\u001b[17;29H\u001b[31m\u001b[1m4G \u001b[m\u001b[36m5069\u001b[17;47H\u001b[m\u001b[m6\u001b[17;63H9\u001b[18;5H90\u001b[18;29H\u001b[31m\u001b[1m4G \u001b[m\u001b[36m5069\u001b[18;47H\u001b[m\u001b[m6.4\u001b[18;60H5:25\u001b[19;4H181\u001b[19;29H\u001b[31m\u001b[1m4G \u001b[m\u001b[36m5069\u001b[19;47H\u001b[m\u001b[m5.6\u001b[6C\u001b[31m\u001b[1m11h\u001b[m\u001b[m01:48\u001b[20;5H87\u001b[20;29H\u001b[31m\u001b[1m4G \u001b[m\u001b[36m5069\u001b[20;49H\u001b[m\u001b[m9\u001b[20;63H7\u001b[21;4H179\u001b[21;29H\u001b[31m\u001b[1m4G \u001b[m\u001b[36m5069\u001b[21;44H\u001b[m\u001b[mS 14.9\u001b[6C\u001b[31m\u001b[1m11h\u001b[m\u001b[m01:22\u001b[22;5H72\u001b[22;29H\u001b[31m\u001b[1m4G \u001b[m\u001b[36m5069\u001b[22;49H\u001b[m\u001b[m2\u001b[22;62H37\u001b[23;5H68\u001b[23;29H\u001b[31m\u001b[1m4G \u001b[m\u001b[36m5069\u001b[23;44H\u001b[m\u001b[mS 14.2\u001b[23;62H53\u001b[H\u001b[2;10H\u001b[31m|\u001b[30m\u001b[1m  32.1\u001b[2;28H\u001b[m\u001b[31m|\u001b[30m\u001b[1m   21.0\u001b[2;47H\u001b[m\u001b[32m|\u001b[31m|\u001b[30m\u001b[1m  21.5\u001b[2;71H1.9\u001b[3;11H  29.4\u001b[3;28H\u001b[m\u001b[31m|\u001b[30m\u001b[1m   22.3\u001b[3;47H\u001b[m\u001b[31m||\u001b[30m\u001b[1m \u001b[3;67H\u001b[m\u001b[32m||\u001b[31m|5\u001b[30m\u001b[1m2.1\u001b[4;9H\u001b[m\u001b[32m|\u001b[31m|\u001b[30m\u001b[1m  23.6\u001b[4;33H7.4\u001b[4;47H\u001b[m\u001b[31m||\u001b[30m\u001b[1m  32.9\u001b[4;66H\u001b[m\u001b[31m|\u001b[30m\u001b[1m   18.6\u001b[5;10H\u001b[m\u001b[31m||\u001b[30m\u001b[1m 35.3\u001b[5;29H\u001b[m\u001b[31m||\u001b[30m\u001b[1m 35.2\u001b[5;47H\u001b[m\u001b[31m|\u001b[30m\u001b[1m   21.5\u001b[6;11H  33.6\u001b[6;28H\u001b[m\u001b[31m||\u001b[30m\u001b[1m  33.8\u001b[6;51H35.0\u001b[6;71H8.2\u001b[7;13H31.4\u001b[7;31H 33.3\u001b[7;48H\u001b[m\u001b[32m|\u001b[31m|\u001b[30m\u001b[1m 33.3\u001b[7;71H0.3\u001b[8;30H\u001b[m\u001b[33m7\u001b[8;62H\u001b[32m\u001b[1m5\u001b[9;58H\u001b[m32 \u001b[36m13.31 \u001b[m\u001b[36m12.82\u001b[10;69H\u001b[1m4\u001b[13;29H\u001b[m\u001b[30m\u001b[46m3G 507\u001b[13;48H8.  3.2\u001b[14;33H\u001b[m\u001b[36m975\u001b[14;54H\u001b[m\u001b[m5  0:46.47\u001b[15;5H10\u001b[15;29H\u001b[31m\u001b[1m3G \u001b[m\u001b[36m507\u001b[15;46H\u001b[m\u001b[m20.0  3.2 \u001b[31m\u001b[1m 7h\u001b[m\u001b[m01:54\u001b[16;4H177\u001b[16;29H\u001b[31m\u001b[1m3G \u001b[m\u001b[36m507\u001b[16;44H\u001b[m\u001b[mS \u001b[16;54H2 \u001b[31m\u001b[1m11h\u001b[m\u001b[m02:1\u001b[17;4H213\u001b[17;29H\u001b[31m\u001b[1m3G \u001b[m\u001b[36m507\u001b[17;47H\u001b[m\u001b[m7.8  3.2 \u001b[31m\u001b[1m 6h\u001b[m\u001b[m56:52\u001b[18;5H81\u001b[18;29H\u001b[31m\u001b[1m3G \u001b[m\u001b[36m507\u001b[18;54H\u001b[m\u001b[m2 \u001b[31m\u001b[1m11h\u001b[m\u001b[m01:48\u001b[19;5H72\u001b[19;29H\u001b[31m\u001b[1m3G \u001b[m\u001b[36m507\u001b[19;47H\u001b[m\u001b[m6.4  3.2\u001b[7C37\u001b[20;5H73\u001b[20;29H\u001b[31m\u001b[1m3G \u001b[m\u001b[36m507\u001b[20;44H\u001b[32mR \u001b[m\u001b[m15.7  3.2 \u001b[31m\u001b[1m11h\u001b[m\u001b[m04:12\u001b[21;5H68\u001b[21;29H\u001b[31m\u001b[1m3G \u001b[m\u001b[36m507\u001b[21;47H\u001b[m\u001b[m5.0  3.2 \u001b[31m\u001b[1m11h\u001b[m\u001b[m02:53\u001b[22;6H8\u001b[22;29H\u001b[31m\u001b[1m3G \u001b[m\u001b[36m507\u001b[22;44H\u001b[32mR \u001b[m\u001b[m15.0  3.2 \u001b[31m\u001b[1m11h\u001b[m\u001b[m02:0\u001b[23;5H71\u001b[23;29H\u001b[31m\u001b[1m3G \u001b[m\u001b[36m507\u001b[23;47H\u001b[m\u001b[m5.0  3.2 \u001b[31m\u001b[1m11h\u001b[m\u001b[m06:04\u001b[H\u001b[2;10H\u001b[32m|\u001b[31m||\u001b[30m\u001b[1m42.4\u001b[2;28H\u001b[m\u001b[32m|\u001b[31m|\u001b[30m\u001b[1m  22.6\u001b[2;52H2.7\u001b[2;71H2.6\u001b[3;14H5.5\u001b[3;28H\u001b[m\u001b[32m|\u001b[31m|\u001b[30m\u001b[1m  29.9\u001b[3;48H   19.3\u001b[3;67H\u001b[m\u001b[31m|\u001b[30m\u001b[1m  32.4\u001b[4;14H4.3\u001b[4;29H\u001b[m\u001b[32m|\u001b[31m|\u001b[30m\u001b[1m 35.0\u001b[4;47H\u001b[m\u001b[32m||\u001b[31m||\u001b[30m\u001b[1m47.6\u001b[4;71H9.9\u001b[5;10H\u001b[m\u001b[32m|\u001b[31m|\u001b[30m\u001b[1m 36.6\u001b[5;30H  35.3\u001b[5;54H7\u001b[5;65H\u001b[m\u001b[32m|||||9\u001b[31m9.3\u001b[6;10H\u001b[32m|\u001b[31m||\u001b[30m\u001b[1m45.1\u001b[6;28H\u001b[m\u001b[32m|\u001b[31m||\u001b[30m\u001b[1m 38.7\u001b[6;49H\u001b[m\u001b[31m|\u001b[6;70H\u001b[30m\u001b[1m33.1\u001b[7;16H9\u001b[7;29H\u001b[m\u001b[32m|\u001b[31m|\u001b[30m\u001b[1m 40.0\u001b[7;48H\u001b[m\u001b[31m||\u001b[30m\u001b[1m 35.9\u001b[7;66H\u001b[m\u001b[32m|\u001b[31m||\u001b[30m\u001b[1m 36.1\u001b[8;28H\u001b[m\u001b[33m1.8\u001b[8;62H\u001b[32m\u001b[1m9\u001b[10;69H\u001b[36m5\u001b[13;35H\u001b[m\u001b[30m\u001b[46m0\u001b[13;47H9\u001b[6C1\u001b[14;26H\u001b[m\u001b[36m4838M 2990\u001b[14;48H\u001b[m\u001b[m7.  1.9  0:47.98\u001b[15;4H181\u001b[15;35H\u001b[36m0\u001b[15;44H\u001b[32mR \u001b[m\u001b[m20.6  3.1 \u001b[31m\u001b[1m11h\u001b[m\u001b[m01:48\u001b[16;6H8\u001b[16;35H\u001b[36m0\u001b[16;47H\u001b[m\u001b[m9\u001b[6C1\u001b[7C07\u001b[17;4H189\u001b[17;35H\u001b[36m0\u001b[17;44H\u001b[32mR \u001b[m\u001b[m18.4  3.1 \u001b[31m\u001b[1m11h\u001b[m\u001b[m08:36\u001b[18;5H79\u001b[18;35H\u001b[36m0\u001b[18;47H\u001b[m\u001b[m7.7  3.1\u001b[7C22\u001b[19;4H213\u001b[19;35H\u001b[36m0\u001b[19;47H\u001b[m\u001b[m7.0  3.1 \u001b[31m\u001b[1m 6h\u001b[m\u001b[m56:53\u001b[20;6H4\u001b[20;35H\u001b[36m0\u001b[20;47H\u001b[m\u001b[m7.0  3.1 \u001b[31m\u001b[1m11h\u001b[m\u001b[m03:16\u001b[21;5H77\u001b[21;35H\u001b[36m0\u001b[21;44H\u001b[32mR \u001b[m\u001b[m16.3  3.1\u001b[7C16\u001b[22;5H96\u001b[22;35H\u001b[36m0\u001b[22;44H\u001b[m\u001b[mS 16.3  3.1 \u001b[31m\u001b[1m14h\u001b[m\u001b[m10:29\u001b[23;5H85\u001b[23;35H\u001b[36m0\u001b[23;44H\u001b[32mR \u001b[m\u001b[m15.6  3.1 \u001b[31m\u001b[1m11h\u001b[m\u001b[m02:1\u001b[H\u001b[2;11H\u001b[32m|\u001b[31m|\u001b[30m\u001b[1m44.1\u001b[2;33H4.1\u001b[2;54H5\u001b[2;67H\u001b[m\u001b[32m|\u001b[31m|\u001b[30m\u001b[1m 39.3\u001b[3;10H\u001b[m\u001b[32m|\u001b[31m||\u001b[30m\u001b[1m42.1\u001b[3;32H30.0\u001b[3;47H\u001b[m\u001b[32m|\u001b[31m|\u001b[30m\u001b[1m  24.6\u001b[3;67H\u001b[m\u001b[32m|\u001b[31m|\u001b[30m\u001b[1m 35\u001b[4;14H5.0\u001b[4;33H3.1\u001b[4;52H2.0\u001b[4;66H\u001b[m\u001b[32m|\u001b[31m|\u001b[30m\u001b[1m  22.1\u001b[5;10H\u001b[m\u001b[31m|\u001b[30m\u001b[1m  28.7\u001b[5;29H\u001b[m\u001b[32m|\u001b[31m|\u001b[30m\u001b[1m 35.5\u001b[5;47H\u001b[m\u001b[32m|\u001b[31m|\u001b[30m\u001b[1m  26\u001b[5;69H\u001b[m\u001b[32m100.0\u001b[6;10H\u001b[31m|\u001b[30m\u001b[1m  31.2\u001b[6;31H\u001b[m\u001b[31m|\u001b[30m\u001b[1m46.1\u001b[6;48H\u001b[m\u001b[32m|\u001b[31m||\u001b[30m\u001b[1m42\u001b[6;67H\u001b[m\u001b[32m|\u001b[31m|\u001b[30m\u001b[1m 37.2\u001b[7;14H2.1\u001b[7;29H\u001b[m\u001b[31m|\u001b[30m\u001b[1m  26.6\u001b[7;48H\u001b[m\u001b[32m|\u001b[31m||\u001b[30m\u001b[1m41.6\u001b[7;67H\u001b[m\u001b[32m|\u001b[31m||\u001b[30m\u001b[1m40.6\u001b[8;30H\u001b[m\u001b[33m9\u001b[8;61H\u001b[32m\u001b[1m22\u001b[10;69H\u001b[36m7\u001b[13;35H\u001b[m\u001b[30m\u001b[46m2\u001b[13;46H616\u001b[14;26H\u001b[m\u001b[36m5094M 3185\u001b[14;52H\u001b[m\u001b[m2.0  0:49.49\u001b[15;6H9\u001b[15;35H\u001b[36m2\u001b[15;46H\u001b[m\u001b[m19.2\u001b[15;60H8:36\u001b[16;6H4\u001b[16;35H\u001b[36m2\u001b[16;44H\u001b[32mR \u001b[m\u001b[m19.2\u001b[16;60H3:16\u001b[17;4H214\u001b[17;35H\u001b[36m2\u001b[17;44H\u001b[m\u001b[mS 18.5\u001b[6C\u001b[31m\u001b[1m 6h\u001b[m\u001b[m58:59\u001b[18;6H8\u001b[18;35H\u001b[36m2\u001b[18;44H\u001b[32mR \u001b[m\u001b[m17.8\u001b[18;60H2:08\u001b[19;4H168\u001b[19;35H\u001b[36m2\u001b[19;44H\u001b[32mR \u001b[m\u001b[m17.8\u001b[6C\u001b[31m\u001b[1m11h\u001b[m\u001b[m02:54\u001b[20;6H3\u001b[20;35H\u001b[36m2\u001b[20;44H\u001b[m\u001b[mS 17.8\u001b[20;60H4:13\u001b[21;5H81\u001b[21;35H\u001b[36m2\u001b[21;47H\u001b[m\u001b[m7.1\u001b[21;60H1:48\u001b[22;5H79\u001b[22;35H\u001b[36m2\u001b[22;47H\u001b[m\u001b[m7.1\u001b[7C\u001b[31m\u001b[1m1h\u001b[m\u001b[m01:22\u001b[23;5H71\u001b[23;35H\u001b[36m2\u001b[23;47H\u001b[m\u001b[m7.1\u001b[23;60H6:05\u001b[H\u001b[2;11H\u001b[31m|\u001b[30m\u001b[1m 37.5\u001b[2;33H2.9\u001b[2;52H0.6\u001b[2;67H\u001b[m\u001b[31m|\u001b[30m\u001b[1m  29.4\u001b[3;10H\u001b[m\u001b[31m|\u001b[30m\u001b[1m  33\u001b[3;30H\u001b[m\u001b[31m|\u001b[30m\u001b[1m 30.8\u001b[3;49H\u001b[m\u001b[31m|\u001b[30m\u001b[1m 38.9\u001b[3;67H\u001b[m\u001b[31m|\u001b[30m\u001b[1m  32.9\u001b[4;14H1.8\u001b[4;29H\u001b[m\u001b[31m|\u001b[30m\u001b[1m  26.4\u001b[4;47H\u001b[m\u001b[31m||\u001b[30m\u001b[1m  26.8\u001b[18C6\u001b[5;16H5\u001b[5;29H\u001b[m\u001b[31m|\u001b[30m\u001b[1m  29.1\u001b[5;47H\u001b[m\u001b[31m|\u001b[30m\u001b[1m   18.4\u001b[5;68H\u001b[m\u001b[31m|100.0\u001b[6;14H\u001b[30m\u001b[1m0.1\u001b[6;33H9.0\u001b[6;48H\u001b[m\u001b[31m|\u001b[30m\u001b[1m  28\u001b[6;67H\u001b[m\u001b[31m|\u001b[30m\u001b[1m  30.1\u001b[7;10H\u001b[m\u001b[32m|\u001b[31m|\u001b[30m\u001b[1m 39.6\u001b[7;33H8.2\u001b[7;48H\u001b[m\u001b[31m|\u001b[30m\u001b[1m  25.7\u001b[7;69H 39.9\u001b[8;28H\u001b[m\u001b[33m2.0\u001b[8;62H\u001b[32m\u001b[1m7\u001b[10;69H\u001b[36m8\u001b[13;34H\u001b[m\u001b[30m\u001b[46m49\u001b[13;46H524\u001b[14;27H\u001b[m\u001b[36m350M 3289\u001b[14;48H\u001b[m\u001b[m5\u001b[14;59H51.00\u001b[15;4H220\u001b[15;34H\u001b[36m49\u001b[15;44H\u001b[m\u001b[mS 25.9\u001b[7C\u001b[31m\u001b[1m2h\u001b[m\u001b[m23:0\u001b[16;6H3\u001b[16;34H\u001b[36m49\u001b[16;47H\u001b[m\u001b[m6.1\u001b[16;60H4:13\u001b[17;4H171\u001b[17;34H\u001b[36m49\u001b[17;44H\u001b[32mR \u001b[m\u001b[m15.4\u001b[6C\u001b[31m\u001b[1m11h\u001b[m\u001b[m06:05\u001b[18;5H84\u001b[18;34H\u001b[36m49\u001b[18;47H\u001b[m\u001b[m5.4\u001b[18;62H20\u001b[19;34H\u001b[36m49\u001b[19;44H\u001b[m\u001b[mS 14.7\u001b[20;6H9\u001b[20;34H\u001b[36m49\u001b[20;44H\u001b[32mR \u001b[m\u001b[m14.7\u001b[20;60H1:2\u001b[21;6H7\u001b[21;34H\u001b[36m49\u001b[21;47H\u001b[m\u001b[m4.0\u001b[21;62H3\u001b[22;5H80\u001b[22;34H\u001b[36m49\u001b[22;44H\u001b[32mR \u001b[m\u001b[m14.0\u001b[22;60H4:55\u001b[23;5H90\u001b[23;34H\u001b[36m49\u001b[23;47H\u001b[m\u001b[m3.3\u001b[23;60H5:26\u001b[H"
     ]
    },
    {
     "name": "stdout",
     "output_type": "stream",
     "text": [
      "\u001b[2;12H\u001b[31m|\u001b[30m\u001b[1m44.0\u001b[2;35H5\u001b[2;47H\u001b[m\u001b[31m|\u001b[30m\u001b[1m   21\u001b[2;70H30.0\u001b[3;14H5.0\u001b[3;31H\u001b[m\u001b[31m|\u001b[30m\u001b[1m49.3\u001b[3;47H\u001b[m\u001b[31m||\u001b[30m\u001b[1m  26.7\u001b[3;67H\u001b[m\u001b[32m|\u001b[31m||\u001b[30m\u001b[1m40.4\u001b[4;9H\u001b[m\u001b[31m|\u001b[30m\u001b[1m   21.3\u001b[4;33H9.3\u001b[4;47H\u001b[m\u001b[32m|\u001b[31m||\u001b[30m\u001b[1m 28.1\u001b[4;71H4.8\u001b[5;13H33.8\u001b[5;32H31.5\u001b[5;47H\u001b[m\u001b[32m|\u001b[31m|\u001b[30m\u001b[1m  24.1\u001b[5;67H\u001b[m\u001b[31m|\u001b[6;14H\u001b[30m\u001b[1m2.9\u001b[6;29H\u001b[m\u001b[32m|\u001b[31m||\u001b[30m\u001b[1m43.7\u001b[6;48H\u001b[m\u001b[32m|\u001b[31m||\u001b[30m\u001b[1m42\u001b[6;70H28.6\u001b[7;12H\u001b[m\u001b[31m|\u001b[30m\u001b[1m43.5\u001b[7;32H32.9\u001b[7;52H9.2\u001b[7;67H\u001b[m\u001b[31m||\u001b[30m\u001b[1m 35.2\u001b[8;30H\u001b[m\u001b[33m1\u001b[8;61H\u001b[32m\u001b[1m16\u001b[9;59H\u001b[m8 \u001b[36m13.35 \u001b[m\u001b[36m12.84\u001b[10;68H\u001b[1m40\u001b[13;29H\u001b[m\u001b[30m\u001b[46m4G 5055\u001b[13;47H77\u001b[14;33H\u001b[m\u001b[36m371\u001b[14;48H\u001b[m\u001b[m6.  2.1  0:52.51\u001b[15;29H\u001b[31m\u001b[1m4G \u001b[m\u001b[36m5055\u001b[15;44H\u001b[32mR \u001b[m\u001b[m21.2\u001b[16;6H8\u001b[16;29H\u001b[31m\u001b[1m4G \u001b[m\u001b[36m5055\u001b[16;44H\u001b[m\u001b[mS 17.7\u001b[16;60H2:08\u001b[17;6H2\u001b[17;29H\u001b[31m\u001b[1m4G \u001b[m\u001b[36m5055\u001b[17;44H\u001b[m\u001b[mS 17.0\u001b[17;60H1:38\u001b[18;5H69\u001b[18;29H\u001b[31m\u001b[1m4G \u001b[m\u001b[36m5055\u001b[18;44H\u001b[m\u001b[mS 17.0\u001b[18;60H1\u001b[19;5H86\u001b[19;29H\u001b[31m\u001b[1m4G \u001b[m\u001b[36m5055\u001b[19;47H\u001b[m\u001b[m7.0\u001b[19;62H07\u001b[20;5H68\u001b[20;29H\u001b[31m\u001b[1m4G \u001b[m\u001b[36m5055\u001b[20;44H\u001b[m\u001b[mS 16.3\u001b[20;60H2:54\u001b[21;6H9\u001b[21;29H\u001b[31m\u001b[1m4G \u001b[m\u001b[36m5055\u001b[21;44H\u001b[m\u001b[mS 16.3\u001b[21;60H8:36\u001b[22;5H75\u001b[22;29H\u001b[31m\u001b[1m4G \u001b[m\u001b[36m5055\u001b[22;44H\u001b[m\u001b[mS 15.6\u001b[22;62H17\u001b[23;5H73\u001b[23;29H\u001b[31m\u001b[1m4G \u001b[m\u001b[36m5055\u001b[23;44H\u001b[m\u001b[mS 14.8\u001b[23;60H4:13\u001b[H\u001b[2;10H\u001b[31m||\u001b[30m\u001b[1m 37.4\u001b[2;32H19.4\u001b[2;47H\u001b[m\u001b[32m|\u001b[31m|\u001b[30m\u001b[1m  21.3\u001b[18C9\u001b[3;11H\u001b[m\u001b[31m|\u001b[30m\u001b[1m 34.8\u001b[3;29H\u001b[m\u001b[32m|\u001b[31m||5\u001b[30m\u001b[1m1.8\u001b[3;47H\u001b[m\u001b[32m|\u001b[31m||\u001b[30m\u001b[1m 34.8\u001b[3;67H\u001b[m\u001b[31m|\u001b[30m\u001b[1m  31.2\u001b[4;9H\u001b[m\u001b[32m|\u001b[31m|\u001b[30m\u001b[1m  25.7\u001b[4;29H\u001b[m\u001b[32m|\u001b[31m|\u001b[30m\u001b[1m 35.2\u001b[4;51H35.7\u001b[4;66H\u001b[m\u001b[31m|\u001b[30m\u001b[1m   17.4\u001b[5;13H29\u001b[5;30H\u001b[m\u001b[31m|\u001b[30m\u001b[1m 36.2\u001b[5;54H7\u001b[6;13H28.1\u001b[6;33H9.3\u001b[6;52H3.4\u001b[6;70H33.8\u001b[7;14H1.3\u001b[7;29H\u001b[m\u001b[32m|\u001b[31m||\u001b[30m\u001b[1m43.8\u001b[7;52H7.9\u001b[7;68H  30.9\u001b[8;30H\u001b[m\u001b[33m2\u001b[8;61H\u001b[32m\u001b[1m28\u001b[10;69H\u001b[36m1\u001b[13;35H\u001b[m\u001b[30m\u001b[46m8\u001b[13;46H611\u001b[14;33H\u001b[m\u001b[36m459\u001b[14;48H\u001b[m\u001b[m7\u001b[14;60H4.02\u001b[15;4H186\u001b[15;35H\u001b[36m8\u001b[15;46H\u001b[m\u001b[m18.5\u001b[7C\u001b[31m\u001b[1m1h\u001b[m\u001b[m02:07\u001b[16;4H220\u001b[16;35H\u001b[36m8\u001b[16;44H\u001b[32mR \u001b[m\u001b[m17.0\u001b[7C\u001b[31m\u001b[1m2h\u001b[m\u001b[m23:07\u001b[17;6H3\u001b[17;35H\u001b[36m8\u001b[17;44H\u001b[32mR \u001b[17;60H\u001b[m\u001b[m4:13\u001b[18;4H207\u001b[18;35H\u001b[36m8\u001b[18;56H\u001b[31m\u001b[1m 7h\u001b[m\u001b[m04:16\u001b[19;5H68\u001b[19;35H\u001b[36m8\u001b[19;44H\u001b[32mR \u001b[m\u001b[m16.3\u001b[19;62H54\u001b[20;5H74\u001b[20;35H\u001b[36m8\u001b[20;44H\u001b[32mR \u001b[20;60H\u001b[m\u001b[m3:17\u001b[21;4H203\u001b[21;35H\u001b[36m8\u001b[21;44H\u001b[32mR \u001b[21;56H\u001b[31m\u001b[1m 7h\u001b[m\u001b[m02:02\u001b[22;6H8\u001b[22;35H\u001b[36m8\u001b[22;44H\u001b[32mR \u001b[22;60H\u001b[m\u001b[m2:08\u001b[23;6H2\u001b[23;35H\u001b[36m8\u001b[23;44H\u001b[32mR \u001b[m\u001b[m15.6\u001b[23;60H1:38\u001b[H\u001b[2;14H\u001b[30m\u001b[1m2.9\u001b[2;28H\u001b[m\u001b[31m|\u001b[30m\u001b[1m   20.3\u001b[2;47H\u001b[m\u001b[31m|\u001b[30m\u001b[1m   20.5\u001b[2;70H27.6\u001b[3;10H\u001b[m\u001b[32m|\u001b[31m|\u001b[30m\u001b[1m 36\u001b[3;32H41.1\u001b[3;52H5.2\u001b[3;67H\u001b[m\u001b[32m|\u001b[31m||\u001b[30m\u001b[1m42.6\u001b[4;14H2.1\u001b[4;29H\u001b[m\u001b[31m|\u001b[30m\u001b[1m  31\u001b[4;47H\u001b[m\u001b[31m||\u001b[30m\u001b[1m  29.5\u001b[4;66H\u001b[m\u001b[32m|\u001b[31m|\u001b[30m\u001b[1m  24.6\u001b[5;14H7.9\u001b[5;29H\u001b[m\u001b[32m|\u001b[31m|\u001b[30m\u001b[1m 32.4\u001b[5;51H19\u001b[6;11H\u001b[m\u001b[31m|\u001b[30m\u001b[1m 32.6\u001b[6;29H\u001b[m\u001b[31m||\u001b[30m\u001b[1m 37.4\u001b[6;48H\u001b[m\u001b[31m||\u001b[30m\u001b[1m 30.9\u001b[6;70H27.2\u001b[7;13H39.7\u001b[7;29H\u001b[m\u001b[31m||\u001b[30m\u001b[1m 36.2\u001b[7;52H5.7\u001b[7;71H1.0\u001b[8;30H\u001b[m\u001b[33m3\u001b[8;62H\u001b[32m\u001b[1m0\u001b[10;69H\u001b[36m3\u001b[13;29H\u001b[m\u001b[30m\u001b[46m3G 5064\u001b[13;46H529\u001b[14;27H\u001b[m\u001b[36m862M 353\u001b[14;48H\u001b[m\u001b[m6.  2.2  0:55.54\u001b[15;29H\u001b[31m\u001b[1m3G \u001b[m\u001b[36m5064\u001b[15;44H\u001b[m\u001b[mS 15.4\u001b[15;63H8\u001b[16;5H13\u001b[16;29H\u001b[31m\u001b[1m3G \u001b[m\u001b[36m5064\u001b[16;47H\u001b[m\u001b[m5.4\u001b[6C\u001b[31m\u001b[1m 6h\u001b[m\u001b[m56:53\u001b[17;29H\u001b[31m\u001b[1m3G \u001b[m\u001b[36m5064\u001b[17;47H\u001b[m\u001b[m4.7\u001b[17;63H4\u001b[18;4H168\u001b[18;29H\u001b[31m\u001b[1m3G \u001b[m\u001b[36m5064\u001b[18;47H\u001b[m\u001b[m4.7\u001b[6C\u001b[31m\u001b[1m11h\u001b[m\u001b[m02:55\u001b[19;5H7\u001b[19;29H\u001b[31m\u001b[1m3G \u001b[m\u001b[36m5064\u001b[19;47H\u001b[m\u001b[m4.7\u001b[19;62H08\u001b[20;5H96\u001b[20;29H\u001b[31m\u001b[1m3G \u001b[m\u001b[36m5064\u001b[20;44H\u001b[m\u001b[mS 14.7\u001b[7C\u001b[31m\u001b[1m4h\u001b[m\u001b[m10:30\u001b[21;4H172\u001b[21;29H\u001b[31m\u001b[1m3G \u001b[m\u001b[36m5064\u001b[21;47H\u001b[m\u001b[m4.0\u001b[6C\u001b[31m\u001b[1m11h\u001b[m\u001b[m01:38\u001b[22;6H9\u001b[22;29H\u001b[31m\u001b[1m3G \u001b[m\u001b[36m5064\u001b[22;44H\u001b[m\u001b[mS 14.0\u001b[22;60H1:23\u001b[23;6H7\u001b[23;29H\u001b[31m\u001b[1m3G \u001b[m\u001b[36m5064\u001b[23;44H\u001b[m\u001b[mS 14.0\u001b[23;60H2:17\u001b[H\u001b[2;11H\u001b[30m\u001b[1m  33.8\u001b[2;35H1\u001b[2;51H19.0\u001b[18C1\u001b[3;10H\u001b[m\u001b[31m|\u001b[30m\u001b[1m  32.1\u001b[3;28H\u001b[m\u001b[31m|||\u001b[30m\u001b[1m 32.0\u001b[3;52H8.3\u001b[3;67H\u001b[m\u001b[31m||\u001b[30m\u001b[1m 41.1\u001b[4;9H\u001b[m\u001b[31m|\u001b[30m\u001b[1m   19.0\u001b[4;32H27.3\u001b[4;52H3.8\u001b[4;66H\u001b[m\u001b[31m|\u001b[30m\u001b[1m   22.7\u001b[5;10H\u001b[m\u001b[32m|\u001b[31m||\u001b[30m\u001b[1m37.5\u001b[5;29H\u001b[m\u001b[31m||\u001b[30m\u001b[1m 33.3\u001b[5;47H\u001b[m\u001b[31m|\u001b[30m\u001b[1m   20\u001b[6;14H0.5\u001b[6;28H\u001b[m\u001b[31m||\u001b[30m\u001b[1m  29.2\u001b[6;48H\u001b[m\u001b[32m|\u001b[31m||\u001b[30m\u001b[1m42.3\u001b[6;71H9.7\u001b[7;12H 39.9\u001b[7;29H\u001b[m\u001b[32m|\u001b[31m||\u001b[30m\u001b[1m41.4\u001b[7;52H4.8\u001b[7;70H26.8\u001b[8;61H\u001b[32m14\u001b[9;56H\u001b[m4.47 \u001b[36m13.20 \u001b[m\u001b[36m12.79\u001b[10;69H\u001b[1m4\u001b[13;34H\u001b[m\u001b[30m\u001b[46m73\u001b[13;47H52.  3.2\u001b[14;33H\u001b[m\u001b[36m61\u001b[14;48H\u001b[m\u001b[m5\u001b[14;60H7.0\u001b[15;4H210\u001b[15;34H\u001b[36m73\u001b[15;46H\u001b[m\u001b[m20\u001b[6C2 \u001b[31m\u001b[1m 7h\u001b[m\u001b[m01:55\u001b[16;5H20\u001b[16;34H\u001b[36m73\u001b[16;44H\u001b[m\u001b[mS 19.0  3.2 \u001b[31m\u001b[1m12h\u001b[m\u001b[m23:07\u001b[17;5H81\u001b[17;34H\u001b[36m73\u001b[17;44H\u001b[m\u001b[mS 17.6  3.2 \u001b[31m\u001b[1m11h\u001b[m\u001b[m01:49\u001b[18;5H89\u001b[18;34H\u001b[36m73\u001b[18;47H\u001b[m\u001b[m6.9  3.2 \u001b[31m\u001b[1m11h\u001b[m\u001b[m08:37\u001b[19;4H217\u001b[19;34H\u001b[36m73\u001b[19;47H\u001b[m\u001b[m6.9  3.2 \u001b[31m\u001b[1m 7h\u001b[m\u001b[m01:52\u001b[20;5H77\u001b[20;34H\u001b[36m73\u001b[20;47H\u001b[m\u001b[m6.2  3.2 \u001b[31m\u001b[1m11h\u001b[m\u001b[m02:17\u001b[21;5H69\u001b[21;34H\u001b[36m73\u001b[21;44H\u001b[m\u001b[mS 15.5  3.2\u001b[7C21\u001b[22;4H204\u001b[22;34H\u001b[36m73\u001b[22;47H\u001b[m\u001b[m5.5  3.2 \u001b[31m\u001b[1m 7h\u001b[m\u001b[m07:3\u001b[23;5H68\u001b[23;34H\u001b[36m73\u001b[23;49H\u001b[m\u001b[m8  3.2\u001b[7C55\u001b[H\u001b[2;10H\u001b[32m|\u001b[31m||\u001b[30m\u001b[1m47.6\u001b[2;32H17\u001b[2;52H8.7\u001b[2;71H5.0\u001b[3;10H\u001b[m\u001b[32m|\u001b[31m|\u001b[30m\u001b[1m 37.3\u001b[3;28H\u001b[m\u001b[32m|\u001b[31m||\u001b[30m\u001b[1m 37.3\u001b[3;52H6.6\u001b[3;67H\u001b[m\u001b[32m|\u001b[31m||4\u001b[30m\u001b[1m6.9\u001b[4;14H8.7\u001b[4;33H8.9\u001b[4;66H\u001b[m\u001b[32m|\u001b[31m||\u001b[30m\u001b[1m 32.1\u001b[5;10H\u001b[m\u001b[31m|\u001b[30m\u001b[1m  28.1\u001b[5;30H  33.6\u001b[5;51H17.3\u001b[6;9H\u001b[m\u001b[31m|\u001b[30m\u001b[1m   22.7\u001b[6;33H3.4\u001b[6;50H 37.1\u001b[6;71H8.8\u001b[7;12H\u001b[m\u001b[31m|\u001b[30m\u001b[1m45\u001b[7;29H\u001b[m\u001b[31m||\u001b[30m\u001b[1m 37.3\u001b[7;47H\u001b[m\u001b[31m|\u001b[30m\u001b[1m   22.0\u001b[7;70H31.5\u001b[8;30H\u001b[m\u001b[33m4\u001b[8;61H\u001b[32m\u001b[1m25\u001b[10;69H\u001b[36m6\u001b[13;29H\u001b[m\u001b[30m\u001b[46m4G 505\u001b[13;48H3.  3.1\u001b[14;34H\u001b[m\u001b[36m9\u001b[14;48H\u001b[m\u001b[m7.  2.3  0:58.56\u001b[15;4H196\u001b[15;29H\u001b[31m\u001b[1m4G \u001b[m\u001b[36m505\u001b[15;44H\u001b[32mR \u001b[m\u001b[m16.3  3.1 \u001b[31m\u001b[1m14h\u001b[m\u001b[m10:30\u001b[16;29H\u001b[31m\u001b[1m4G \u001b[m\u001b[36m505\u001b[16;44H\u001b[32mR \u001b[m\u001b[m15.6  3.1\u001b[17;5H68\u001b[17;29H\u001b[31m\u001b[1m4G \u001b[m\u001b[36m505\u001b[17;44H\u001b[32mR \u001b[m\u001b[m14.9  3.1 \u001b[31m\u001b[1m11h\u001b[m\u001b[m02:55\u001b[18;6H2\u001b[18;29H\u001b[31m\u001b[1m4G \u001b[m\u001b[36m505\u001b[18;47H\u001b[m\u001b[m4\u001b[6C1 \u001b[31m\u001b[1m11h\u001b[m\u001b[m03:53\u001b[19;4H174\u001b[19;29H\u001b[31m\u001b[1m4G \u001b[m\u001b[36m505\u001b[19;47H\u001b[m\u001b[m4\u001b[6C1 \u001b[31m\u001b[1m11h\u001b[m\u001b[m03:17\u001b[20;5H86\u001b[20;29H\u001b[31m\u001b[1m4G \u001b[m\u001b[36m505\u001b[20;44H\u001b[32mR \u001b[m\u001b[m14.9  3.1\u001b[7C08\u001b[21;5H84\u001b[21;29H\u001b[31m\u001b[1m4G \u001b[m\u001b[36m505\u001b[21;47H\u001b[m\u001b[m4.9  3.1 \u001b[31m\u001b[1m11h\u001b[m\u001b[m02\u001b[22;6H8\u001b[22;29H\u001b[31m\u001b[1m4G \u001b[m\u001b[36m505\u001b[22;44H\u001b[32mR \u001b[m\u001b[m14.9  3.1 \u001b[31m\u001b[1m 7h\u001b[m\u001b[m02:52\u001b[23;6H9\u001b[23;29H\u001b[31m\u001b[1m4G \u001b[m\u001b[36m505\u001b[23;44H\u001b[32mR \u001b[m\u001b[m14.2  3.1 \u001b[31m\u001b[1m11h\u001b[m\u001b[m01:21\u001b[H\u001b[2;14H\u001b[30m\u001b[1m6.4\u001b[2;35H6\u001b[2;47H\u001b[m\u001b[32m|\u001b[31m|\u001b[30m\u001b[1m  30.9\u001b[2;67H\u001b[m\u001b[32m|\u001b[31m||\u001b[30m\u001b[1m42.4\u001b[3;12H\u001b[m\u001b[31m|\u001b[30m\u001b[1m38.4\u001b[3;29H\u001b[m\u001b[32m|\u001b[31m||\u001b[30m\u001b[1m41.7\u001b[3;51H41.4\u001b[3;67H\u001b[m\u001b[31m|||\u001b[30m\u001b[1m46.8\u001b[4;9H\u001b[m\u001b[32m||\u001b[31m|\u001b[30m\u001b[1m 36.1\u001b[4;30H\u001b[m\u001b[31m|\u001b[30m\u001b[1m 31.5\u001b[4;47H\u001b[m\u001b[32m||\u001b[31m||\u001b[30m\u001b[1m46.5\u001b[4;68H  33.6\u001b[5;10H\u001b[m\u001b[32m|\u001b[31m||\u001b[30m\u001b[1m42\u001b[5;29H\u001b[m\u001b[32m|\u001b[31m||5\u001b[30m\u001b[1m1.0\u001b[5;47H\u001b[m\u001b[32m|\u001b[31m|\u001b[30m\u001b[1m  31.9\u001b[5;67H\u001b[m\u001b[32m|\u001b[6;9H||\u001b[31m||\u001b[30m\u001b[1m39.6\u001b[6;28H\u001b[m\u001b[32m||\u001b[31m||\u001b[30m\u001b[1m52.2\u001b[6;50H\u001b[m\u001b[31m|\u001b[30m\u001b[1m46.0\u001b[6;71H5.2\u001b[7;14H0.0\u001b[7;29H\u001b[m\u001b[32m|\u001b[31m||\u001b[30m\u001b[1m41.5\u001b[7;47H\u001b[m\u001b[32m|\u001b[31m|\u001b[30m\u001b[1m  28.6\u001b[7;70H29.2\u001b[8;30H\u001b[m\u001b[33m5\u001b[8;53H\u001b[32m\u001b[1m94\u001b[7C9\u001b[10;69H\u001b[36m8\u001b[13;29H\u001b[m\u001b[30m\u001b[46m3G 5064\u001b[13;46H855\u001b[14;33H\u001b[m\u001b[36m80\u001b[14;48H\u001b[m\u001b[m9.  2.4  1:00.07\u001b[15;4H215\u001b[15;29H\u001b[31m\u001b[1m3G \u001b[m\u001b[36m506\u001b[15;46H\u001b[m\u001b[m32.7\u001b[6C\u001b[31m\u001b[1m 6h\u001b[m\u001b[m57:42\u001b[16;5H12\u001b[16;29H\u001b[31m\u001b[1m3G \u001b[m\u001b[36m506\u001b[16;44H\u001b[m\u001b[mS 30.5\u001b[6C\u001b[31m\u001b[1m 7h\u001b[m\u001b[m00:46\u001b[17;4H203\u001b[17;29H\u001b[31m\u001b[1m3G \u001b[m\u001b[36m506\u001b[17;44H\u001b[m\u001b[mS 29.1\u001b[6C\u001b[31m\u001b[1m 7h\u001b[m\u001b[m02:02\u001b[18;4H210\u001b[18;29H\u001b[31m\u001b[1m3G \u001b[m\u001b[36m506\u001b[18;44H\u001b[32mR \u001b[m\u001b[m26\u001b[18;56H\u001b[31m\u001b[1m 7h\u001b[m\u001b[m01:56\u001b[19;5H98\u001b[19;29H\u001b[31m\u001b[1m3G \u001b[m\u001b[36m506\u001b[19;44H\u001b[m\u001b[mS 26.2\u001b[6C\u001b[31m\u001b[1m 6h\u001b[m\u001b[m59\u001b[20;4H218\u001b[20;29H\u001b[31m\u001b[1m3G \u001b[m\u001b[36m506\u001b[20;44H\u001b[m\u001b[mS 26.2\u001b[6C\u001b[31m\u001b[1m 7h\u001b[m\u001b[m01:23\u001b[21;4H220\u001b[21;29H\u001b[31m\u001b[1m3G \u001b[m\u001b[36m506\u001b[21;46H\u001b[m\u001b[m24.7\u001b[7C\u001b[31m\u001b[1m2h\u001b[m\u001b[m23:08\u001b[22;5H11\u001b[22;29H\u001b[31m\u001b[1m3G \u001b[m\u001b[36m506\u001b[22;44H\u001b[m\u001b[mS 24.7\u001b[7C\u001b[31m\u001b[1m6h\u001b[m\u001b[m57:26\u001b[23;4H21\u001b[23;29H\u001b[31m\u001b[1m3G \u001b[m\u001b[36m506\u001b[23;44H\u001b[m\u001b[mS 24.0\u001b[6C\u001b[31m\u001b[1m 7h\u001b[m\u001b[m00:5\u001b[H\u001b[2;11H\u001b[32m||\u001b[31m5\u001b[30m\u001b[1m5.8\u001b[2;28H\u001b[m\u001b[32m|||\u001b[31m|4\u001b[30m\u001b[1m9.2\u001b[2;48H\u001b[m\u001b[32m||\u001b[31m|56\u001b[30m\u001b[1m.8\u001b[2;68H\u001b[m\u001b[32m||\u001b[31m5\u001b[30m\u001b[1m6.7\u001b[3;11H\u001b[m\u001b[32m||80.\u001b[31m0\u001b[3;29H||\u001b[30m\u001b[1m 41.2\u001b[3;51H33.8\u001b[3;67H\u001b[m\u001b[32m||\u001b[31m|5\u001b[30m\u001b[1m2.2\u001b[4;11H\u001b[m\u001b[32m||\u001b[31m61\u001b[30m\u001b[1m.2\u001b[4;29H\u001b[m\u001b[32m|||\u001b[31m62\u001b[30m\u001b[1m.3\u001b[4;49H\u001b[m\u001b[32m|\u001b[31m|5\u001b[30m\u001b[1m8.1\u001b[4;68H\u001b[m\u001b[31m|\u001b[30m\u001b[1m 35.0\u001b[5;11H\u001b[m\u001b[32m||67\u001b[31m.\u001b[30m\u001b[1m9\u001b[5;30H\u001b[m\u001b[32m||75\u001b[31m.4\u001b[5;48H\u001b[32m|\u001b[31m|\u001b[30m\u001b[1m 38.6\u001b[5;67H\u001b[m\u001b[31m|\u001b[6;12H\u001b[30m\u001b[1m 40.0\u001b[6;30H\u001b[m\u001b[32m||81.\u001b[31m0\u001b[6;49H\u001b[32m||73\u001b[31m.\u001b[30m\u001b[1m9\u001b[6;68H\u001b[m\u001b[31m|\u001b[30m\u001b[1m 42.6\u001b[7;10H\u001b[m\u001b[31m||\u001b[30m\u001b[1m 36.7\u001b[7;30H\u001b[m\u001b[32m|\u001b[31m|5\u001b[30m\u001b[1m1.7\u001b[7;48H\u001b[m\u001b[32m|||\u001b[31m63\u001b[7;67H\u001b[32m|\u001b[31m||\u001b[30m\u001b[1m47.4\u001b[8;30H\u001b[m\u001b[33m6\u001b[8;53H\u001b[32m\u001b[1m86\u001b[6C18\u001b[9;56H\u001b[m5.31 \u001b[36m13.39 \u001b[m\u001b[36m12.85\u001b[10;69H\u001b[1m9\u001b[13;34H\u001b[m\u001b[30m\u001b[46m46\u001b[13;46H1510\u001b[14;34H\u001b[m\u001b[36m6\u001b[14;47H\u001b[m\u001b[m16\u001b[14;60H1.59\u001b[15;6H2\u001b[15;34H\u001b[36m46\u001b[15;46H\u001b[m\u001b[m96.2\u001b[7C\u001b[31m\u001b[1m7h\u001b[m\u001b[m00:48\u001b[16;6H8\u001b[16;34H\u001b[36m46\u001b[16;44H\u001b[32mR \u001b[m\u001b[m91.6\u001b[16;60H1:25\u001b[17;6H0\u001b[17;34H\u001b[36m46\u001b[17;44H\u001b[32mR \u001b[m\u001b[m87.7\u001b[7C\u001b[31m\u001b[1m6h\u001b[m\u001b[m59:58\u001b[18;6H4\u001b[18;34H\u001b[36m46\u001b[18;46H\u001b[m\u001b[m87.7\u001b[7C\u001b[31m\u001b[1m6h\u001b[m\u001b[m59:01\u001b[19;3H2109\u001b[19;34H\u001b[36m46\u001b[19;44H\u001b[32mR \u001b[m\u001b[m83.9\u001b[6C 9:31.9\u001b[20;5H21\u001b[20;34H\u001b[36m46\u001b[20;46H\u001b[m\u001b[m82.4\u001b[7C\u001b[31m\u001b[1m6h\u001b[m\u001b[m56:20\u001b[21;5H06\u001b[21;34H\u001b[36m46\u001b[21;46H\u001b[m\u001b[m77.0\u001b[6C\u001b[31m\u001b[1m 6h\u001b[m\u001b[m57:32\u001b[22;5H0\u001b[22;34H\u001b[36m46\u001b[22;44H\u001b[32mR \u001b[m\u001b[m73.1\u001b[7C\u001b[31m\u001b[1m7h\u001b[m\u001b[m09:33\u001b[23;34H\u001b[36m46\u001b[23;46H\u001b[m\u001b[m71.6\u001b[23;63H2\u001b[H"
     ]
    },
    {
     "name": "stdout",
     "output_type": "stream",
     "text": [
      "\u001b[2;10H\u001b[31m|\u001b[30m\u001b[1m  33.6\u001b[2;28H\u001b[m\u001b[31m||\u001b[30m\u001b[1m  32.7\u001b[2;47H\u001b[m\u001b[31m||\u001b[30m\u001b[1m  26.0\u001b[2;65H\u001b[m\u001b[31m|\u001b[30m\u001b[1m     6.2\u001b[3;9H\u001b[m\u001b[31m||\u001b[30m\u001b[1m  29.1\u001b[3;30H  26\u001b[3;49H  31.1\u001b[3;67H\u001b[m\u001b[31m||\u001b[30m\u001b[1m 37.0\u001b[4;9H\u001b[m\u001b[31m|\u001b[30m\u001b[1m   15.0\u001b[4;31H\u001b[m\u001b[31m|\u001b[30m\u001b[1m47\u001b[4;50H\u001b[m\u001b[32m|80.\u001b[30m\u001b[1m3\u001b[4;68H  30.8\u001b[5;10H\u001b[m\u001b[31m||\u001b[30m\u001b[1m 35.2\u001b[5;26H       0.0\u001b[5;48H\u001b[m\u001b[31m|\u001b[30m\u001b[1m  27.7\u001b[6;10H\u001b[m\u001b[31m||\u001b[30m\u001b[1m 34.5\u001b[6;32H\u001b[m\u001b[32m70\u001b[31m.\u001b[30m\u001b[1m1\u001b[6;51H\u001b[m\u001b[31m6\u001b[30m\u001b[1m0.8\u001b[6;68H  28.1\u001b[7;14H9\u001b[7;30H\u001b[m\u001b[31m|\u001b[30m\u001b[1m 42\u001b[7;47H\u001b[m\u001b[31m|\u001b[30m\u001b[1m   20.8\u001b[7;67H\u001b[m\u001b[31m|\u001b[30m\u001b[1m  21.9\u001b[8;30H\u001b[m\u001b[33m7\u001b[8;62H\u001b[32m\u001b[1m7\u001b[10;68H\u001b[36m51\u001b[13;34H\u001b[m\u001b[30m\u001b[46m65\u001b[13;46H652.\u001b[14;33H\u001b[m\u001b[36m95\u001b[14;47H\u001b[m\u001b[m03.  2.5  1:03.10\u001b[15;6H4\u001b[15;34H\u001b[36m65\u001b[15;47H\u001b[m\u001b[m7.9\u001b[7C\u001b[31m\u001b[1m6h\u001b[m\u001b[m59:02\u001b[16;6H2\u001b[16;34H\u001b[36m65\u001b[16;46H\u001b[m\u001b[m60.9\u001b[16;60H0:49\u001b[17;5H18\u001b[17;34H\u001b[36m65\u001b[17;44H\u001b[m\u001b[mS 42.5\u001b[7C\u001b[31m\u001b[1m7h\u001b[m\u001b[m01:25\u001b[18;5H01\u001b[18;34H\u001b[36m65\u001b[18;44H\u001b[m\u001b[mS 15.1\u001b[7C\u001b[31m\u001b[1m7h\u001b[m\u001b[m09:34\u001b[19;3H0168\u001b[19;34H\u001b[36m65\u001b[19;46H\u001b[m\u001b[m15.1\u001b[6C\u001b[31m\u001b[1m11h\u001b[m\u001b[m02:55\u001b[20;5H00\u001b[20;34H\u001b[36m65\u001b[20;46H\u001b[m\u001b[m14\u001b[20;60H9:59\u001b[21;4H177\u001b[21;34H\u001b[36m65\u001b[21;46H\u001b[m\u001b[m13.7\u001b[6C\u001b[31m\u001b[1m11h\u001b[m\u001b[m02:17\u001b[22;6H5\u001b[22;34H\u001b[36m65\u001b[22;44H\u001b[m\u001b[mS 13.0\u001b[22;60H2:40\u001b[23;4H182\u001b[23;34H\u001b[36m65\u001b[23;46H\u001b[m\u001b[m13.0\u001b[6C\u001b[31m\u001b[1m11h\u001b[m\u001b[m03:54\u001b[H\u001b[2;11H\u001b[31m|\u001b[30m\u001b[1m 35.0\u001b[2;32H29.2\u001b[2;47H\u001b[m\u001b[32m||\u001b[31m||\u001b[30m\u001b[1m48.9\u001b[2;65H\u001b[m\u001b[32m||\u001b[31m|\u001b[30m\u001b[1m  33.8\u001b[3;9H\u001b[m\u001b[32m||\u001b[31m|\u001b[30m\u001b[1m 36.8\u001b[3;35H6\u001b[3;48H\u001b[m\u001b[32m|\u001b[31m||\u001b[30m\u001b[1m42.4\u001b[3;71H3.1\u001b[4;9H\u001b[m\u001b[32m|\u001b[31m|\u001b[30m\u001b[1m  22.9\u001b[4;30H\u001b[m\u001b[31m|\u001b[30m\u001b[1m 42.5\u001b[4;48H\u001b[m\u001b[31m||\u001b[30m\u001b[1m 34.9\u001b[4;71H5.0\u001b[5;16H0\u001b[5;26H\u001b[m\u001b[32m||\u001b[31m|\u001b[30m\u001b[1m   15.6\u001b[5;49H\u001b[m\u001b[31m|\u001b[30m\u001b[1m 3\u001b[5;66H\u001b[m\u001b[31m|\u001b[6;11H\u001b[30m\u001b[1m  25.7\u001b[6;29H\u001b[m\u001b[31m||\u001b[30m\u001b[1m 38.7\u001b[6;48H\u001b[m\u001b[31m|\u001b[30m\u001b[1m  26.1\u001b[6;71H9.7\u001b[7;9H\u001b[m\u001b[31m|\u001b[30m\u001b[1m   21\u001b[7;28H\u001b[m\u001b[31m|\u001b[30m\u001b[1m   20.1\u001b[7;47H\u001b[m\u001b[32m|\u001b[31m|\u001b[30m\u001b[1m  21.4\u001b[7;71H5.0\u001b[8;30H\u001b[m\u001b[33m8\u001b[8;61H\u001b[32m\u001b[1m26\u001b[10;69H\u001b[36m2\u001b[13;34H\u001b[m\u001b[30m\u001b[46m72\u001b[13;46H555\u001b[14;26H\u001b[m\u001b[36m6262M 4061\u001b[14;48H\u001b[m\u001b[m6\u001b[14;60H4.61\u001b[15;34H\u001b[36m72\u001b[15;46H\u001b[m\u001b[m21\u001b[15;63H3\u001b[16;4H189\u001b[16;34H\u001b[36m72\u001b[16;46H\u001b[m\u001b[m18.3\u001b[6C\u001b[31m\u001b[1m11h\u001b[m\u001b[m08:38\u001b[17;4H177\u001b[17;34H\u001b[36m71\u001b[17;44H\u001b[32mR \u001b[m\u001b[m16.9\u001b[6C\u001b[31m\u001b[1m11h\u001b[m\u001b[m02:18\u001b[18;5H20\u001b[18;34H\u001b[36m72\u001b[18;47H\u001b[m\u001b[m4.8\u001b[6C\u001b[31m\u001b[1m12h\u001b[m\u001b[m23:08\u001b[19;5H87\u001b[19;34H\u001b[36m72\u001b[19;47H\u001b[m\u001b[m4.8\u001b[19;60H1:40\u001b[20;4H196\u001b[20;34H\u001b[36m72\u001b[20;49H\u001b[m\u001b[m1\u001b[6C\u001b[31m\u001b[1m14h\u001b[m\u001b[m10:31\u001b[21;6H8\u001b[21;34H\u001b[36m71\u001b[21;47H\u001b[m\u001b[m4.1\u001b[21;62H09\u001b[22;4H176\u001b[22;34H\u001b[36m71\u001b[22;44H\u001b[32mR \u001b[m\u001b[m14.1\u001b[6C\u001b[31m\u001b[1m11h\u001b[m\u001b[m01:2\u001b[23;6H4\u001b[23;34H\u001b[36m72\u001b[23;44H\u001b[32mR \u001b[m\u001b[m14.1\u001b[23;60H2:21\u001b[H\u001b[2;11H\u001b[30m\u001b[1m  31.9\u001b[2;28H\u001b[m\u001b[32m|\u001b[31m||\u001b[30m\u001b[1m 29.5\u001b[2;51H50.8\u001b[2;70H29.1\u001b[3;16H6\u001b[3;35H8\u001b[3;48H\u001b[m\u001b[31m|\u001b[30m\u001b[1m  27.9\u001b[3;71H6.6\u001b[4;14H4.1\u001b[4;31H\u001b[m\u001b[31m|\u001b[30m\u001b[1m41.8\u001b[4;49H  28.5\u001b[4;68H\u001b[m\u001b[31m|\u001b[30m\u001b[1m 36.7\u001b[5;11H  30.5\u001b[5;28H\u001b[m\u001b[32m||\u001b[31m||\u001b[30m\u001b[1m37.9\u001b[5;45H\u001b[m\u001b[34m|\u001b[32m|||\u001b[31m||\u001b[30m\u001b[1m42.8\u001b[5;65H\u001b[m\u001b[31m|\u001b[6;13H\u001b[30m\u001b[1m30.0\u001b[6;35H8\u001b[6;51H34.5\u001b[6;68H\u001b[m\u001b[31m|\u001b[30m\u001b[1m 31.9\u001b[7;14H3.9\u001b[7;28H\u001b[m\u001b[32m||\u001b[31m|\u001b[30m\u001b[1m 40.7\u001b[7;48H\u001b[m\u001b[32m|\u001b[31m||\u001b[30m\u001b[1m41.5\u001b[7;66H\u001b[m\u001b[31m|\u001b[30m\u001b[1m   20.7\u001b[8;30H\u001b[m\u001b[33m9\u001b[8;62H\u001b[32m\u001b[1m9\u001b[10;69H\u001b[36m4\u001b[13;34H\u001b[m\u001b[30m\u001b[46m48\u001b[13;47H87\u001b[14;33H\u001b[m\u001b[36m187\u001b[14;48H\u001b[m\u001b[m8.  2.6  1:06.14\u001b[15;6H5\u001b[15;34H\u001b[36m48\u001b[15;46H\u001b[m\u001b[m19\u001b[15;60H7:4\u001b[16;4H204\u001b[16;34H\u001b[36m48\u001b[16;47H\u001b[m\u001b[m9.9\u001b[6C\u001b[31m\u001b[1m 7h\u001b[m\u001b[m07:35\u001b[17;5H89\u001b[17;34H\u001b[36m48\u001b[17;47H\u001b[m\u001b[m8.5\u001b[17;60H8:3\u001b[18;5H12\u001b[18;34H\u001b[36m48\u001b[18;44H\u001b[32mR \u001b[m\u001b[m18.5\u001b[6C\u001b[31m\u001b[1m 7h\u001b[m\u001b[m00:49\u001b[19;5H68\u001b[19;34H\u001b[36m48\u001b[19;47H\u001b[m\u001b[m7\u001b[19;60H2:56\u001b[20;34H\u001b[36m48\u001b[20;47H\u001b[m\u001b[m7\u001b[21;6H0\u001b[21;34H\u001b[36m48\u001b[21;44H\u001b[32mR \u001b[m\u001b[m17\u001b[21;60H1:48\u001b[22;5H82\u001b[22;34H\u001b[36m48\u001b[22;47H\u001b[m\u001b[m6.4\u001b[22;60H3:54\u001b[23;6H3\u001b[23;34H\u001b[36m48\u001b[23;47H\u001b[m\u001b[m6.4\u001b[23;62H49\u001b[H\u001b[2;10H\u001b[32m|\u001b[31m|\u001b[30m\u001b[1m 37.4\u001b[2;30H  26.6\u001b[2;51H42.9\u001b[2;68H\u001b[m\u001b[31m|\u001b[30m\u001b[1m 37.9\u001b[3;12H\u001b[m\u001b[31m|\u001b[30m\u001b[1m43.1\u001b[3;33H7.3\u001b[3;49H\u001b[m\u001b[31m|\u001b[30m\u001b[1m 30.2\u001b[3;66H\u001b[m\u001b[31m||\u001b[30m\u001b[1m  25.7\u001b[4;14H3.2\u001b[4;29H\u001b[m\u001b[31m||\u001b[30m\u001b[1m 33.6\u001b[4;47H\u001b[m\u001b[31m|\u001b[30m\u001b[1m   19.9\u001b[4;71H5.9\u001b[5;11H\u001b[m\u001b[31m|\u001b[30m\u001b[1m 38.2\u001b[5;29H\u001b[m\u001b[31m|\u001b[30m\u001b[1m  28.1\u001b[5;45H\u001b[m\u001b[32m|\u001b[6C\u001b[30m\u001b[1m3.0\u001b[6;11H\u001b[m\u001b[31m|\u001b[30m\u001b[1m 29.5\u001b[6;33H2.6\u001b[6;51H29.8\u001b[6;68H  31.7\u001b[7;14H1.3\u001b[7;29H\u001b[m\u001b[31m||\u001b[30m\u001b[1m 35.5\u001b[7;48H\u001b[m\u001b[31m||\u001b[30m\u001b[1m 33.8\u001b[7;71H2.2\u001b[8;28H\u001b[m\u001b[33m3.0\u001b[8;62H\u001b[32m\u001b[1m2\u001b[9;58H\u001b[m05 \u001b[36m13.37\u001b[10;69H5\u001b[13;34H\u001b[m\u001b[30m\u001b[46m54\u001b[13;46H601\u001b[14;33H\u001b[m\u001b[36m311\u001b[14;48H\u001b[m\u001b[m7.  2.7  1:07.6\u001b[15;5H20\u001b[15;34H\u001b[36m54\u001b[15;44H\u001b[m\u001b[mS 20.1\u001b[6C\u001b[31m\u001b[1m12h\u001b[m\u001b[m23:09\u001b[16;4H170\u001b[16;34H\u001b[36m54\u001b[16;49H\u001b[m\u001b[m4\u001b[6C\u001b[31m\u001b[1m11h\u001b[m\u001b[m01:49\u001b[17;6H3\u001b[17;34H\u001b[36m54\u001b[17;49H\u001b[m\u001b[m7\u001b[17;60H2:49\u001b[18;6H5\u001b[18;34H\u001b[36m54\u001b[18;44H\u001b[m\u001b[mS 17.9\u001b[7C\u001b[31m\u001b[1m6h\u001b[m\u001b[m57:43\u001b[19;5H89\u001b[19;34H\u001b[36m54\u001b[19;49H\u001b[m\u001b[m9\u001b[19;60H8:38\u001b[20;34H\u001b[36m54\u001b[20;49H\u001b[m\u001b[m2\u001b[20;63H2\u001b[21;5H9\u001b[21;34H\u001b[36m54\u001b[21;44H\u001b[m\u001b[mS 16.5\u001b[21;60H5:27\u001b[22;6H7\u001b[22;34H\u001b[36m54\u001b[22;44H\u001b[m\u001b[mS 15.8\u001b[22;60H1:40\u001b[23;5H75\u001b[23;34H\u001b[36m54\u001b[23;44H\u001b[m\u001b[mS 15.8\u001b[23;60H4:1\u001b[H\u001b[2;14H\u001b[30m\u001b[1m4.3\u001b[2;33H7.0\u001b[2;52H8\u001b[20C8\u001b[3;7H\u001b[m\u001b[34m|\u001b[32m||||\u001b[31m|\u001b[30m\u001b[1m40.8\u001b[3;26H\u001b[m\u001b[34m|\u001b[32m|||\u001b[31m|\u001b[30m\u001b[1m 32.7\u001b[3;49H  27.7\u001b[3;66H\u001b[m\u001b[32m||\u001b[31m|\u001b[30m\u001b[1m 35.5\u001b[4;14H6.1\u001b[4;30H  27.0\u001b[4;47H\u001b[m\u001b[32m|\u001b[31m|\u001b[30m\u001b[1m  28.0\u001b[4;67H\u001b[m\u001b[32m|\u001b[31m|\u001b[30m\u001b[1m 36.4\u001b[5;7H\u001b[m\u001b[34m|\u001b[32m|||\u001b[31m||\u001b[30m\u001b[1m38.5\u001b[5;29H\u001b[m\u001b[32m|||\u001b[31m5\u001b[30m\u001b[1m7.5\u001b[5;50H 36.6\u001b[5;69H 38.8%\u001b[6;11H  31.4\u001b[6;31H\u001b[m\u001b[31m|4\u001b[30m\u001b[1m8\u001b[6;48H\u001b[m\u001b[32m|\u001b[31m|\u001b[30m\u001b[1m 35.0\u001b[6;71H2.4\u001b[7;9H\u001b[m\u001b[32m|\u001b[31m||\u001b[30m\u001b[1m 28.1\u001b[7;30H  32.4\u001b[7;48H\u001b[m\u001b[32m|\u001b[31m|\u001b[30m\u001b[1m 34.3\u001b[7;71H0.0\u001b[8;28H\u001b[m\u001b[33m2.5\u001b[8;61H\u001b[32m\u001b[1m13\u001b[10;69H\u001b[36m7\u001b[13;34H\u001b[m\u001b[30m\u001b[46m7\u001b[13;46H582.  3.2\u001b[14;26H\u001b[m\u001b[36m5554M 3706\u001b[14;48H\u001b[m\u001b[m0.  2.3  1:09.07\u001b[15;4H181\u001b[15;34H\u001b[36m7\u001b[15;44H\u001b[32mR \u001b[m\u001b[m21.9  3.2 \u001b[31m\u001b[1m11h\u001b[m\u001b[m01:51\u001b[16;4H22\u001b[16;34H\u001b[36m7\u001b[16;44H\u001b[m\u001b[mS 19.7  3.2 \u001b[31m\u001b[1m12h\u001b[m\u001b[m23:0\u001b[17;6H9\u001b[17;34H\u001b[36m7\u001b[17;44H\u001b[m\u001b[mS 19\u001b[6C2 \u001b[31m\u001b[1m11h\u001b[m\u001b[m08:3\u001b[18;4H182\u001b[18;34H\u001b[36m7\u001b[18;44H\u001b[32mR \u001b[m\u001b[m19.7  3.2 \u001b[31m\u001b[1m11h\u001b[m\u001b[m03:55\u001b[19;5H70\u001b[19;34H\u001b[36m7\u001b[19;44H\u001b[m\u001b[mS 17.6  3.2 \u001b[31m\u001b[1m11h\u001b[m\u001b[m01:49\u001b[20;34H\u001b[36m7\u001b[20;47H\u001b[m\u001b[m6.9  3.2\u001b[21;5H87\u001b[21;34H\u001b[36m7\u001b[21;49H\u001b[m\u001b[m2  3.2 \u001b[31m\u001b[1m11h\u001b[m\u001b[m01:40\u001b[22;5H7\u001b[22;34H\u001b[36m7\u001b[22;47H\u001b[m\u001b[m6.2  3.2 \u001b[31m\u001b[1m11h\u001b[m\u001b[m02:18\u001b[23;6H3\u001b[23;34H\u001b[36m7\u001b[23;49H\u001b[m\u001b[m5  3.2\u001b[23;63H5\u001b[H\u001b[2;13H\u001b[30m\u001b[1m42.8\u001b[2;32H30.9\u001b[2;52H1.8\u001b[2;66H\u001b[m\u001b[31m||\u001b[30m\u001b[1m  29.3\u001b[3;7H\u001b[m\u001b[32m|||\u001b[31m|\u001b[30m\u001b[1m  30.6\u001b[3;26H\u001b[m\u001b[32m|||\u001b[31m|\u001b[30m\u001b[1m  23.1\u001b[3;51H30.0\u001b[3;67H\u001b[m\u001b[31m|\u001b[30m\u001b[1m  31\u001b[4;14H3.9\u001b[4;29H\u001b[m\u001b[32m|\u001b[31m|\u001b[30m\u001b[1m 34.5\u001b[4;52H5.5\u001b[4;71H3.1\u001b[5;7H\u001b[m\u001b[32m||||\u001b[31m||\u001b[30m\u001b[1m47.6\u001b[5;31H\u001b[m\u001b[32m1\u001b[31m00.0%\u001b[5;51H\u001b[30m\u001b[1m40.0\u001b[5;64H       0.0\u001b[6;10H\u001b[m\u001b[32m|\u001b[31m|\u001b[30m\u001b[1m 39.6\u001b[6;29H\u001b[m\u001b[32m|\u001b[31m||\u001b[30m\u001b[1m51.1\u001b[6;52H6.2\u001b[6;67H\u001b[m\u001b[32m|\u001b[31m|\u001b[30m\u001b[1m 31.9\u001b[7;11H  28.3\u001b[7;33H1.3\u001b[7;52H8.7\u001b[7;66H\u001b[m\u001b[32m|\u001b[31m|\u001b[30m\u001b[1m  25.9\u001b[8;62H\u001b[32m2\u001b[10;69H\u001b[36m8\u001b[13;34H\u001b[m\u001b[30m\u001b[46m42\u001b[13;47H34.  3.1\u001b[14;26H\u001b[m\u001b[36m7602M 3799\u001b[14;48H\u001b[m\u001b[m5.  2.4  1:10.58\u001b[15;5H96\u001b[15;34H\u001b[36m42\u001b[15;44H\u001b[m\u001b[mS 19.5  3.1 \u001b[31m\u001b[1m14h\u001b[m\u001b[m10:32\u001b[16;4H183\u001b[16;34H\u001b[36m42\u001b[16;47H\u001b[m\u001b[m6\u001b[6C1 \u001b[31m\u001b[1m11h\u001b[m\u001b[m02:4\u001b[17;4H201\u001b[17;34H\u001b[36m42\u001b[17;47H\u001b[m\u001b[m6\u001b[6C1 \u001b[31m\u001b[1m 7h\u001b[m\u001b[m09:34\u001b[18;5H70\u001b[18;34H\u001b[36m42\u001b[18;44H\u001b[m\u001b[mS 16.0  3.1 \u001b[31m\u001b[1m11h\u001b[m\u001b[m01:49\u001b[19;5H86\u001b[19;34H\u001b[36m42\u001b[19;47H\u001b[m\u001b[m6.0  3.1 \u001b[31m\u001b[1m11h\u001b[m\u001b[m02:0\u001b[20;4H212\u001b[20;34H\u001b[36m42\u001b[20;49H\u001b[m\u001b[m0  3.1 \u001b[31m\u001b[1m 7h\u001b[m\u001b[m00:49\u001b[21;5H71\u001b[21;34H\u001b[36m42\u001b[21;47H\u001b[m\u001b[m5.3  3.1 \u001b[31m\u001b[1m11h\u001b[m\u001b[m06:07\u001b[22;5H89\u001b[22;34H\u001b[36m42\u001b[22;47H\u001b[m\u001b[m4.6  3.1 \u001b[31m\u001b[1m11h\u001b[m\u001b[m08:39\u001b[23;5H82\u001b[23;34H\u001b[36m42\u001b[23;44H\u001b[32mR \u001b[m\u001b[m14.6  3.1 \u001b[31m\u001b[1m11h\u001b[m\u001b[m03:5\u001b[H\u001b[2;10H\u001b[31m|\u001b[30m\u001b[1m  30.1\u001b[2;32H26.5\u001b[2;52H7.3\u001b[2;66H\u001b[m\u001b[32m|\u001b[31m|||\u001b[30m\u001b[1m48.6\u001b[3;14H1.9\u001b[3;28H\u001b[m\u001b[31m|\u001b[30m\u001b[1m   20.3\u001b[3;52H1.9\u001b[3;71H2.6\u001b[4;14H4.0\u001b[4;28H\u001b[m\u001b[31m|\u001b[30m\u001b[1m   2\u001b[4;54H9\u001b[4;71H6.8\u001b[5;10H\u001b[m\u001b[31m||\u001b[30m\u001b[1m 34.8\u001b[5;27H\u001b[m\u001b[31m||||1\u001b[5;48H|\u001b[30m\u001b[1m  29.5\u001b[6;10H\u001b[m\u001b[31m|\u001b[30m\u001b[1m  26.8\u001b[6;32H44.4\u001b[6;48H\u001b[m\u001b[31m|\u001b[30m\u001b[1m  24.3\u001b[6;67H\u001b[m\u001b[31m|\u001b[7;14H\u001b[30m\u001b[1m6.8\u001b[7;33H0.2\u001b[7;48H\u001b[m\u001b[31m||\u001b[30m\u001b[1m 35.5\u001b[7;71H6.8\u001b[8;30H\u001b[m\u001b[33m6\u001b[8;61H\u001b[32m\u001b[1m30\u001b[9;56H\u001b[m4.16 \u001b[36m13.22 \u001b[m\u001b[36m12.80\u001b[10;66H\u001b[1m6:00\u001b[13;34H\u001b[m\u001b[30m\u001b[46m53\u001b[13;47H45\u001b[14;33H\u001b[m\u001b[36m903\u001b[14;48H\u001b[m\u001b[m7\u001b[14;60H2.09\u001b[15;5H89\u001b[15;34H\u001b[36m53\u001b[15;49H\u001b[m\u001b[m2\u001b[7C\u001b[31m\u001b[1m1h\u001b[m\u001b[m08:39\u001b[16;5H96\u001b[16;34H\u001b[36m53\u001b[16;47H\u001b[m\u001b[m7.0\u001b[7C\u001b[31m\u001b[1m4h\u001b[m\u001b[m10:32\u001b[17;5H20\u001b[17;34H\u001b[36m53\u001b[17;44H\u001b[32mR \u001b[m\u001b[m16.3\u001b[6C\u001b[31m\u001b[1m12h\u001b[m\u001b[m23:09\u001b[18;5H83\u001b[18;34H\u001b[36m53\u001b[18;44H\u001b[32mR \u001b[m\u001b[m14.9\u001b[18;60H2:50\u001b[19;6H2\u001b[19;34H\u001b[36m53\u001b[19;47H\u001b[m\u001b[m4.9\u001b[19;60H3:55\u001b[20;4H177\u001b[20;34H\u001b[36m53\u001b[20;44H\u001b[32mR \u001b[m\u001b[m14.9\u001b[6C\u001b[31m\u001b[1m11h\u001b[m\u001b[m02:1\u001b[21;5H87\u001b[21;34H\u001b[36m53\u001b[21;44H\u001b[32mR \u001b[m\u001b[m14.9\u001b[21;60H1:41\u001b[22;5H6\u001b[22;34H\u001b[36m53\u001b[22;44H\u001b[32mR \u001b[m\u001b[m14.9\u001b[22;60H1:22\u001b[23;5H73\u001b[23;34H\u001b[36m53\u001b[23;49H\u001b[m\u001b[m2\u001b[23;60H4:1\u001b[H"
     ]
    },
    {
     "name": "stdout",
     "output_type": "stream",
     "text": [
      "\u001b[?1l\u001b>\u001b[30m\u001b[1m5.9\u001b[2;33H8.4\u001b[2;51H38\u001b[2;68H  29.2\u001b[3;9H\u001b[m\u001b[31m||||66\u001b[30m\u001b[1m.7\u001b[3;28H\u001b[m\u001b[32m|\u001b[31m|\u001b[30m\u001b[1m  22.1\u001b[3;54H2\u001b[3;70H24\u001b[4;14H0.4\u001b[4;28H\u001b[m\u001b[32m|\u001b[31m|\u001b[30m\u001b[1m  25.4\u001b[4;52H4.8\u001b[4;67H\u001b[m\u001b[31m|\u001b[30m\u001b[1m  32.6\u001b[5;12H\u001b[m\u001b[31m|\u001b[30m\u001b[1m43.0\u001b[5;31H\u001b[m\u001b[31m|\u001b[30m\u001b[1m37.7%\u001b[5;52H8\u001b[5;64H\u001b[m\u001b[32m|\u001b[31m|||\u001b[30m\u001b[1m  31.8\u001b[6;14H8.6\u001b[6;28H\u001b[m\u001b[31m|\u001b[30m\u001b[1m   22.8\u001b[6;52H2.9\u001b[6;68H  28.0\u001b[7;9H\u001b[m\u001b[31m||\u001b[30m\u001b[1m  22.3\u001b[7;29H\u001b[m\u001b[32m|\u001b[31m||\u001b[30m\u001b[1m39.6\u001b[7;48H\u001b[m\u001b[32m|\u001b[31m|\u001b[30m\u001b[1m 33.8\u001b[7;71H8.7\u001b[8;30H\u001b[m\u001b[33m8\u001b[10;69H\u001b[36m\u001b[1m1\u001b[13;35H\u001b[m\u001b[30m\u001b[46m2\u001b[13;46H49\u001b[14;32H\u001b[m\u001b[36m409\u001b[14;48H\u001b[m\u001b[m1.  2.5  1:13.55\u001b[15;4H220\u001b[15;35H\u001b[36m2\u001b[15;46H\u001b[m\u001b[m26.4\u001b[7C\u001b[31m\u001b[1m2h\u001b[m\u001b[m23:10\u001b[16;5H70\u001b[16;35H\u001b[36m2\u001b[16;44H\u001b[32mR \u001b[m\u001b[m17.4\u001b[7C\u001b[31m\u001b[1m1h\u001b[m\u001b[m01:50\u001b[17;4H177\u001b[17;35H\u001b[36m2\u001b[17;49H\u001b[m\u001b[m7\u001b[7C\u001b[31m\u001b[1m1h\u001b[m\u001b[m02:1\u001b[18;35H\u001b[36m2\u001b[18;47H\u001b[m\u001b[m6.0\u001b[19;6H9\u001b[19;35H\u001b[36m2\u001b[19;44H\u001b[32mR \u001b[m\u001b[m15.3\u001b[19;60H8:39\u001b[20;5H86\u001b[20;35H\u001b[36m2\u001b[20;47H\u001b[m\u001b[m3.2\u001b[20;63H0\u001b[21;6H2\u001b[21;35H\u001b[36m2\u001b[21;47H\u001b[m\u001b[m2.5\u001b[21;60H3:55\u001b[22;4H206\u001b[22;35H\u001b[36m2\u001b[22;44H\u001b[m\u001b[mS 12.5\u001b[6C\u001b[31m\u001b[1m 6h\u001b[m\u001b[m57:33\u001b[23;5H81\u001b[23;35H\u001b[36m2\u001b[23;47H\u001b[m\u001b[m2.5\u001b[23;60H1:51\u001b[H\u001b[2;10H\u001b[32m|\u001b[31m||\u001b[30m\u001b[1m42.1\u001b[2;35H7\u001b[2;51H40.7\u001b[2;67H\u001b[m\u001b[32m|\u001b[31m|\u001b[30m\u001b[1m 40.3\u001b[3;8H\u001b[m\u001b[31m||||100.0%\u001b[3;33H\u001b[30m\u001b[1m9.8\u001b[3;52H3.6\u001b[3;68H\u001b[m\u001b[31m|\u001b[30m\u001b[1m 36.9\u001b[4;9H\u001b[m\u001b[31m|\u001b[30m\u001b[1m   20.1\u001b[4;29H\u001b[m\u001b[32m|\u001b[31m|\u001b[30m\u001b[1m 39.3\u001b[4;52H5.0\u001b[4;67H\u001b[m\u001b[32m|\u001b[31m|\u001b[30m\u001b[1m 34.0\u001b[5;9H\u001b[m\u001b[31m||\u001b[30m\u001b[1m  25.9\u001b[5;29H   19\u001b[5;51H35\u001b[5;65H\u001b[m\u001b[32m||\u001b[31m||\u001b[30m\u001b[1m 34.7\u001b[6;11H\u001b[m\u001b[31m|\u001b[30m\u001b[1m 37.5\u001b[6;28H\u001b[m\u001b[32m|\u001b[31m|\u001b[30m\u001b[1m  29.1\u001b[6;47H\u001b[m\u001b[31m|\u001b[30m\u001b[1m   20.0\u001b[6;70H32.2\u001b[7;8H\u001b[m\u001b[31m|\u001b[30m\u001b[1m     9.0\u001b[7;29H\u001b[m\u001b[31m|\u001b[30m\u001b[1m  29.9\u001b[7;50H\u001b[m\u001b[31m|\u001b[30m\u001b[1m42.3\u001b[7;71H5.5\u001b[8;30H\u001b[m\u001b[33m9\u001b[8;61H\u001b[32m\u001b[1m9\u001b[m\u001b[m\u001b[1P\u001b[10;69H\u001b[36m\u001b[1m3\u001b[13;34H\u001b[m\u001b[30m\u001b[46m63\u001b[13;46H56\u001b[14;33H\u001b[m\u001b[36m197\u001b[14;48H\u001b[m\u001b[m5.  2.6  1:15.04\u001b[15;4H196\u001b[15;34H\u001b[36m63\u001b[15;47H\u001b[m\u001b[m1.9\u001b[7C\u001b[31m\u001b[1m4h\u001b[m\u001b[m10:33\u001b[16;5H83\u001b[16;34H\u001b[36m63\u001b[16;44H\u001b[m\u001b[mS 17.7\u001b[16;60H2\u001b[17;5H91\u001b[17;34H\u001b[36m63\u001b[17;44H\u001b[m\u001b[mS 17\u001b[17;60H1:45\u001b[18;4H212\u001b[18;34H\u001b[36m63\u001b[18;47H\u001b[m\u001b[m7.7\u001b[6C\u001b[31m\u001b[1m 7h\u001b[m\u001b[m00\u001b[19;34H\u001b[36m63\u001b[19;44H\u001b[m\u001b[mS 16\u001b[19;62H40\u001b[20;4H221\u001b[20;34H\u001b[36m63\u001b[20;44H\u001b[m\u001b[mS 16.3\u001b[6C\u001b[31m\u001b[1m 6h\u001b[m\u001b[m56:21\u001b[21;34H\u001b[36m63\u001b[21;44H\u001b[m\u001b[mS 15.6\u001b[22;4H187\u001b[22;34H\u001b[36m63\u001b[22;47H\u001b[m\u001b[m5.6\u001b[6C\u001b[31m\u001b[1m11h\u001b[m\u001b[m01:41\u001b[23;5H73\u001b[23;34H\u001b[36m63\u001b[23;44H\u001b[m\u001b[mS 15.6\u001b[23;60H4:16\u001b[H\u001b[?1000l\u001b[24;1H\u001b[2J\u001b[?47l\u001b8"
     ]
    }
   ],
   "source": [
    "\n",
    "    "
   ]
  },
  {
   "cell_type": "code",
   "execution_count": 64,
   "metadata": {},
   "outputs": [
    {
     "name": "stdout",
     "output_type": "stream",
     "text": [
      "Basic_word2vector.ipynb\t\t book\r\n",
      "Recommander  System.xmind\t cf\r\n",
      "Recommender System.ipynb\t data\r\n",
      "__init__.py\t\t\t tensorFlow DeepFM实验.ipynb\r\n",
      "algo.qq.com_641013010_testa.zip  util\r\n"
     ]
    }
   ],
   "source": [
    "!ls\n"
   ]
  },
  {
   "cell_type": "code",
   "execution_count": null,
   "metadata": {
    "collapsed": true
   },
   "outputs": [],
   "source": []
  }
 ],
 "metadata": {
  "kernelspec": {
   "display_name": "Python 3",
   "language": "python",
   "name": "python3"
  },
  "language_info": {
   "codemirror_mode": {
    "name": "ipython",
    "version": 3
   },
   "file_extension": ".py",
   "mimetype": "text/x-python",
   "name": "python",
   "nbconvert_exporter": "python",
   "pygments_lexer": "ipython3",
   "version": "3.6.3"
  }
 },
 "nbformat": 4,
 "nbformat_minor": 2
}
