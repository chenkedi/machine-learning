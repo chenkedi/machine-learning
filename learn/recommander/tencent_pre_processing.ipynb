{
 "cells": [
  {
   "cell_type": "code",
   "execution_count": 1,
   "metadata": {},
   "outputs": [
    {
     "name": "stderr",
     "output_type": "stream",
     "text": [
      "/opt/conda/envs/tensorflow/lib/python3.6/importlib/_bootstrap.py:219: RuntimeWarning: compiletime version 3.5 of module 'tensorflow.python.framework.fast_tensor_util' does not match runtime version 3.6\n",
      "  return f(*args, **kwds)\n"
     ]
    }
   ],
   "source": [
    "import tensorflow as tf\n",
    "import pandas as pd\n",
    "import matplotlib.pyplot as plt\n",
    "import numpy as np\n",
    "import zipfile\n",
    "import seaborn as sns\n",
    "\n",
    "from sklearn.preprocessing import Imputer\n",
    "from sklearn.preprocessing import PolynomialFeatures\n",
    "from sklearn.preprocessing import StandardScaler\n",
    "from sklearn.feature_selection import VarianceThreshold\n",
    "from sklearn.feature_selection import SelectFromModel\n",
    "from sklearn.utils import shuffle\n",
    "from sklearn.ensemble import RandomForestClassifier\n",
    "from io import BytesIO\n",
    "\n",
    "pd.set_option('display.max_columns', 100)\n",
    "%matplotlib inline"
   ]
  },
  {
   "cell_type": "code",
   "execution_count": 2,
   "metadata": {
    "collapsed": true
   },
   "outputs": [],
   "source": [
    "# user = []\n",
    "# ad_operation = []\n",
    "# imps_log = []\n",
    "# test_sample = []\n",
    "# ad_static_feature = []\n",
    "# with zipfile.ZipFile(\"data/algo_junior_a.zip\") as f:\n",
    "#   print(f.namelist())\n",
    "#   for name in f.namelist():\n",
    "#     if name == 'testA/user.zip':\n",
    "#       raw_data = BytesIO(f.read(name))\n",
    "#       with zipfile.ZipFile(raw_data) as f_:\n",
    "#         user = tf.compat.as_str(f_.read(f_.namelist()[0]))\n",
    "    \n",
    "#     if name == 'testA/imps_log.zip':\n",
    "#       raw_data = BytesIO(f.read(name))\n",
    "#       with zipfile.ZipFile(raw_data) as f_:\n",
    "#         imps_log = tf.compat.as_str(f_.read(f_.namelist()[0]))\n",
    "    \n",
    "#     if name == 'testA/ad_operation.dat':\n",
    "#       ad_operation = tf.compat.as_str(f.read(name))\n",
    "#     if name == 'testA/test_sample.dat':\n",
    "#       test_sample = tf.compat.as_str(f.read(name))\n",
    "#     if name == 'testA/ad_static_feature.out':\n",
    "#       test_sample = tf.compat.as_str(f.read(name))"
   ]
  },
  {
   "cell_type": "code",
   "execution_count": 3,
   "metadata": {},
   "outputs": [
    {
     "name": "stderr",
     "output_type": "stream",
     "text": [
      "/opt/conda/envs/tensorflow/lib/python3.6/site-packages/IPython/core/interactiveshell.py:2698: DtypeWarning: Columns (3,6) have mixed types. Specify dtype option on import or set low_memory=False.\n",
      "  interactivity=interactivity, compiler=compiler, result=result)\n"
     ]
    }
   ],
   "source": [
    "ad_static_feature = pd.read_csv(\"data/tencent/testA/ad_static_feature.out\",sep='\\t',header=None)\n",
    "ad_operation = pd.read_csv(\"data/tencent/testA/ad_operation.dat\", sep='\\t', header=None)\n",
    "test_sample = pd.read_csv(\"data/tencent/testA/test_sample.dat\", sep='\\t', header=None)\n",
    "user = pd.read_csv(\"data/tencent/testA/user_data\", sep='\\t', header=None)\n",
    "imps_log =  pd.read_csv(\"data/tencent/testA/totalExposureLog.out\", sep='\\t', header=None)"
   ]
  },
  {
   "cell_type": "code",
   "execution_count": 4,
   "metadata": {},
   "outputs": [
    {
     "data": {
      "text/plain": [
       "(1396718, 11)"
      ]
     },
     "execution_count": 4,
     "metadata": {},
     "output_type": "execute_result"
    }
   ],
   "source": [
    "user.shape"
   ]
  },
  {
   "cell_type": "code",
   "execution_count": 11,
   "metadata": {},
   "outputs": [
    {
     "data": {
      "text/plain": [
       "(102386695, 10)"
      ]
     },
     "execution_count": 11,
     "metadata": {},
     "output_type": "execute_result"
    }
   ],
   "source": [
    "imps_log.shape"
   ]
  },
  {
   "cell_type": "code",
   "execution_count": 12,
   "metadata": {},
   "outputs": [
    {
     "data": {
      "text/plain": [
       "(735911, 7)"
      ]
     },
     "execution_count": 12,
     "metadata": {},
     "output_type": "execute_result"
    }
   ],
   "source": [
    "ad_static_feature.shape"
   ]
  },
  {
   "cell_type": "code",
   "execution_count": 13,
   "metadata": {},
   "outputs": [
    {
     "data": {
      "text/plain": [
       "(760866, 5)"
      ]
     },
     "execution_count": 13,
     "metadata": {},
     "output_type": "execute_result"
    }
   ],
   "source": [
    "ad_operation.shape"
   ]
  },
  {
   "cell_type": "code",
   "execution_count": 14,
   "metadata": {},
   "outputs": [
    {
     "data": {
      "text/plain": [
       "(20290, 11)"
      ]
     },
     "execution_count": 14,
     "metadata": {},
     "output_type": "execute_result"
    }
   ],
   "source": [
    "test_sample.shape"
   ]
  },
  {
   "cell_type": "code",
   "execution_count": 6,
   "metadata": {},
   "outputs": [
    {
     "name": "stdout",
     "output_type": "stream",
     "text": [
      "<class 'pandas.core.frame.DataFrame'>\n",
      "RangeIndex: 1396718 entries, 0 to 1396717\n",
      "Data columns (total 11 columns):\n",
      "0     1396718 non-null int64\n",
      "1     1396718 non-null int64\n",
      "2     1396718 non-null int64\n",
      "3     1396718 non-null object\n",
      "4     1396718 non-null object\n",
      "5     1396718 non-null int64\n",
      "6     1396718 non-null int64\n",
      "7     1396718 non-null int64\n",
      "8     1396718 non-null object\n",
      "9     1396718 non-null int64\n",
      "10    1396718 non-null object\n",
      "dtypes: int64(7), object(4)\n",
      "memory usage: 117.2+ MB\n"
     ]
    }
   ],
   "source": [
    "user.info()"
   ]
  },
  {
   "cell_type": "code",
   "execution_count": 7,
   "metadata": {},
   "outputs": [
    {
     "name": "stdout",
     "output_type": "stream",
     "text": [
      "<class 'pandas.core.frame.DataFrame'>\n",
      "RangeIndex: 102386695 entries, 0 to 102386694\n",
      "Data columns (total 10 columns):\n",
      "0    int64\n",
      "1    int64\n",
      "2    int64\n",
      "3    int64\n",
      "4    int64\n",
      "5    int64\n",
      "6    int64\n",
      "7    float64\n",
      "8    float64\n",
      "9    float64\n",
      "dtypes: float64(3), int64(7)\n",
      "memory usage: 7.6 GB\n"
     ]
    }
   ],
   "source": [
    "imps_log.info()"
   ]
  },
  {
   "cell_type": "code",
   "execution_count": 8,
   "metadata": {},
   "outputs": [
    {
     "name": "stdout",
     "output_type": "stream",
     "text": [
      "<class 'pandas.core.frame.DataFrame'>\n",
      "RangeIndex: 735911 entries, 0 to 735910\n",
      "Data columns (total 7 columns):\n",
      "0    735911 non-null int64\n",
      "1    735911 non-null int64\n",
      "2    735911 non-null int64\n",
      "3    735911 non-null object\n",
      "4    735911 non-null int64\n",
      "5    735911 non-null object\n",
      "6    509252 non-null object\n",
      "dtypes: int64(4), object(3)\n",
      "memory usage: 39.3+ MB\n"
     ]
    }
   ],
   "source": [
    "ad_static_feature.info()"
   ]
  },
  {
   "cell_type": "code",
   "execution_count": 9,
   "metadata": {},
   "outputs": [
    {
     "name": "stdout",
     "output_type": "stream",
     "text": [
      "<class 'pandas.core.frame.DataFrame'>\n",
      "RangeIndex: 760866 entries, 0 to 760865\n",
      "Data columns (total 5 columns):\n",
      "0    760866 non-null int64\n",
      "1    760866 non-null int64\n",
      "2    760866 non-null int64\n",
      "3    760866 non-null int64\n",
      "4    760866 non-null object\n",
      "dtypes: int64(4), object(1)\n",
      "memory usage: 29.0+ MB\n"
     ]
    }
   ],
   "source": [
    "ad_operation.info()"
   ]
  },
  {
   "cell_type": "code",
   "execution_count": 15,
   "metadata": {},
   "outputs": [
    {
     "name": "stdout",
     "output_type": "stream",
     "text": [
      "<class 'pandas.core.frame.DataFrame'>\n",
      "RangeIndex: 20290 entries, 0 to 20289\n",
      "Data columns (total 11 columns):\n",
      "0     20290 non-null int64\n",
      "1     20290 non-null int64\n",
      "2     20290 non-null int64\n",
      "3     20290 non-null int64\n",
      "4     20290 non-null int64\n",
      "5     20290 non-null int64\n",
      "6     20290 non-null int64\n",
      "7     20290 non-null int64\n",
      "8     20290 non-null object\n",
      "9     20290 non-null object\n",
      "10    20290 non-null int64\n",
      "dtypes: int64(9), object(2)\n",
      "memory usage: 1.7+ MB\n"
     ]
    }
   ],
   "source": [
    "test_sample.info()"
   ]
  },
  {
   "cell_type": "code",
   "execution_count": 17,
   "metadata": {},
   "outputs": [
    {
     "name": "stdout",
     "output_type": "stream",
     "text": [
      "Looking in indexes: https://pypi.tuna.tsinghua.edu.cn/simple\n",
      "Collecting modin\n",
      "\u001b[?25l  Downloading https://pypi.tuna.tsinghua.edu.cn/packages/a5/ea/57f24305ce56c95536ebd70842b8fd12416aa1adca904dfb82371d461861/modin-0.4.0-py3-none-any.whl (184kB)\n",
      "\u001b[K    100% |████████████████████████████████| 194kB 437kB/s ta 0:00:011\n",
      "\u001b[?25hCollecting pandas==0.24.1 (from modin)\n",
      "\u001b[?25l  Downloading https://pypi.tuna.tsinghua.edu.cn/packages/e6/de/a0d3defd8f338eaf53ef716e40ef6d6c277c35d50e09b586e170169cdf0d/pandas-0.24.1-cp36-cp36m-manylinux1_x86_64.whl (10.1MB)\n",
      "\u001b[K    100% |████████████████████████████████| 10.1MB 102kB/s eta 0:00:01\n",
      "\u001b[?25hCollecting ray==0.6.2 (from modin)\n",
      "\u001b[?25l  Downloading https://pypi.tuna.tsinghua.edu.cn/packages/4a/57/05e2ccf236e0b05b5d2831e79486e84b4eeadce68e8927ee338c61511568/ray-0.6.2-cp36-cp36m-manylinux1_x86_64.whl (73.0MB)\n",
      "\u001b[K    100% |████████████████████████████████| 73.0MB 4.2kB/s eta 0:00:01                     | 8.7MB 32.4MB/s eta 0:00:029MB 28.6MB/s eta 0:00:020MB 32.5MB/s eta 0:00:020:02███████▎                 | 32.7MB 44.3MB/s eta 0:00:01    47% |███████████████▎                | 34.8MB 43.3MB/s eta 0:00:01MB/s eta 0:00:01\n",
      "\u001b[?25hRequirement already satisfied: numpy<=1.15.0 in /opt/conda/envs/tensorflow/lib/python3.6/site-packages (from modin) (1.13.3)\n",
      "Requirement already satisfied: typing in /opt/conda/envs/tensorflow/lib/python3.6/site-packages (from modin) (3.6.2)\n",
      "Requirement already satisfied: pytz>=2011k in /opt/conda/envs/tensorflow/lib/python3.6/site-packages (from pandas==0.24.1->modin) (2017.2)\n",
      "Requirement already satisfied: python-dateutil>=2.5.0 in /opt/conda/envs/tensorflow/lib/python3.6/site-packages (from pandas==0.24.1->modin) (2.6.1)\n",
      "Requirement already satisfied: six>=1.0.0 in /opt/conda/envs/tensorflow/lib/python3.6/site-packages (from ray==0.6.2->modin) (1.11.0)\n",
      "Requirement already satisfied: filelock in /opt/conda/envs/tensorflow/lib/python3.6/site-packages (from ray==0.6.2->modin) (2.0.12)\n",
      "Collecting flatbuffers (from ray==0.6.2->modin)\n",
      "  Downloading https://pypi.tuna.tsinghua.edu.cn/packages/21/9a/b0f3302f994b58bc26ebcc39218c14e33d8fa1bd96b7ba709597aff7507c/flatbuffers-1.10-py2.py3-none-any.whl\n",
      "Requirement already satisfied: pyyaml in /opt/conda/envs/tensorflow/lib/python3.6/site-packages (from ray==0.6.2->modin) (3.12)\n",
      "Collecting redis (from ray==0.6.2->modin)\n",
      "\u001b[?25l  Downloading https://pypi.tuna.tsinghua.edu.cn/packages/ac/a7/cff10cc5f1180834a3ed564d148fb4329c989cbb1f2e196fc9a10fa07072/redis-3.2.1-py2.py3-none-any.whl (65kB)\n",
      "\u001b[K    100% |████████████████████████████████| 71kB 14.7MB/s ta 0:00:01\n",
      "\u001b[?25hRequirement already satisfied: colorama in /opt/conda/envs/tensorflow/lib/python3.6/site-packages (from ray==0.6.2->modin) (0.3.9)\n",
      "Requirement already satisfied: click in /opt/conda/envs/tensorflow/lib/python3.6/site-packages (from ray==0.6.2->modin) (6.7)\n",
      "Requirement already satisfied: pytest in /opt/conda/envs/tensorflow/lib/python3.6/site-packages (from ray==0.6.2->modin) (3.2.1)\n",
      "Collecting funcsigs (from ray==0.6.2->modin)\n",
      "  Downloading https://pypi.tuna.tsinghua.edu.cn/packages/69/cb/f5be453359271714c01b9bd06126eaf2e368f1fddfff30818754b5ac2328/funcsigs-1.0.2-py2.py3-none-any.whl\n",
      "Requirement already satisfied: py>=1.4.33 in /opt/conda/envs/tensorflow/lib/python3.6/site-packages (from pytest->ray==0.6.2->modin) (1.4.34)\n",
      "Requirement already satisfied: setuptools in /opt/conda/envs/tensorflow/lib/python3.6/site-packages (from pytest->ray==0.6.2->modin) (36.5.0.post20170921)\n",
      "Installing collected packages: pandas, flatbuffers, redis, funcsigs, ray, modin\n",
      "  Found existing installation: pandas 0.20.3\n",
      "    Uninstalling pandas-0.20.3:\n",
      "      Successfully uninstalled pandas-0.20.3\n",
      "Successfully installed flatbuffers-1.10 funcsigs-1.0.2 modin-0.4.0 pandas-0.24.1 ray-0.6.2 redis-3.2.1\n",
      "\u001b[33mYou are using pip version 18.0, however version 19.1 is available.\n",
      "You should consider upgrading via the 'pip install --upgrade pip' command.\u001b[0m\n"
     ]
    }
   ],
   "source": [
    "!pip install modin"
   ]
  },
  {
   "cell_type": "code",
   "execution_count": null,
   "metadata": {
    "collapsed": true
   },
   "outputs": [],
   "source": []
  }
 ],
 "metadata": {
  "kernelspec": {
   "display_name": "Python 3",
   "language": "python",
   "name": "python3"
  },
  "language_info": {
   "codemirror_mode": {
    "name": "ipython",
    "version": 3
   },
   "file_extension": ".py",
   "mimetype": "text/x-python",
   "name": "python",
   "nbconvert_exporter": "python",
   "pygments_lexer": "ipython3",
   "version": "3.6.3"
  }
 },
 "nbformat": 4,
 "nbformat_minor": 2
}
