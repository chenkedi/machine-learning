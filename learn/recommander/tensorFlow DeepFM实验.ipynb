{
 "cells": [
  {
   "cell_type": "code",
   "execution_count": 12,
   "metadata": {},
   "outputs": [
    {
     "name": "stdout",
     "output_type": "stream",
     "text": [
      "[[[ 0.1       ]\n",
      "  [ 0.30000001]\n",
      "  [ 0.5       ]]\n",
      "\n",
      " [[ 0.2       ]\n",
      "  [ 0.40000001]\n",
      "  [ 0.5       ]]]\n",
      "[[[  1.]\n",
      "  [  1.]\n",
      "  [ 25.]]\n",
      "\n",
      " [[  1.]\n",
      "  [  1.]\n",
      "  [ 26.]]]\n",
      "乘法后\n",
      "[[[  0.1       ]\n",
      "  [  0.30000001]\n",
      "  [ 12.5       ]]\n",
      "\n",
      " [[  0.2       ]\n",
      "  [  0.40000001]\n",
      "  [ 13.        ]]]\n",
      "[[  0.1          0.30000001  12.5       ]\n",
      " [  0.2          0.40000001  13.        ]]\n"
     ]
    }
   ],
   "source": [
    "import tensorflow as tf\n",
    "\n",
    "feat_value = tf.constant([\n",
    "                            [1., 1., 25.],\n",
    "                            [1., 1., 26.]\n",
    "]) # 输入特征的value，m * F\n",
    "\n",
    "feat_index = tf.constant([\n",
    "                    [0, 2, 4],\n",
    "                    [1, 3, 4]\n",
    "])\n",
    "\n",
    "one_order_weight = tf.constant([[0.1],\n",
    "                               [0.2],\n",
    "                               [0.3],\n",
    "                               [0.4],\n",
    "                               [0.5]]) # feat_size * 1\n",
    "\n",
    "# 一阶特征unit\n",
    "one_order = tf.nn.embedding_lookup(one_order_weight, feat_index) # 应该是 m * F * 1\n",
    "feat_value = tf.reshape(feat_value, shape=[-1, 3, 1]) # 将feat_value也变成 m * F * 1\n",
    "\n",
    "with tf.Session() as sess:\n",
    "    print(sess.run(one_order))\n",
    "    print(sess.run(feat_value))\n",
    "    \n",
    "print(\"乘法后\")\n",
    "one_order = tf.multiply(one_order, feat_value)\n",
    "one_order_res = tf.reduce_sum(one_order, 2)\n",
    "with tf.Session() as sess:\n",
    "    print(sess.run(one_order))\n",
    "    print(sess.run(one_order_res))\n",
    "\n"
   ]
  },
  {
   "cell_type": "code",
   "execution_count": 20,
   "metadata": {},
   "outputs": [
    {
     "name": "stdout",
     "output_type": "stream",
     "text": [
      "[[  3.77513437e-11   3.77513437e-11   1.00000000e+00]\n",
      " [  1.38879437e-11   1.38879437e-11   1.00000000e+00]]\n",
      "[ 1.  1.]\n",
      "[  0.  25.]\n"
     ]
    }
   ],
   "source": [
    "logits = tf.constant([\n",
    "                            [1., 1., 25.],\n",
    "                            [1., 1., 26.]\n",
    "])\n",
    "labels = tf.constant([\n",
    "    [0, 0, 1],\n",
    "    [1, 0, 0]\n",
    "])\n",
    "# softmax = tf.nn.softmax(logits)\n",
    "loss = tf.nn.softmax_cross_entropy_with_logits(logits=logits, labels=labels)\n",
    "with tf.Session() as sess:\n",
    "    print(sess.run(softmax))\n",
    "    print(sess.run(tf.reduce_sum(softmax, 1)))\n",
    "    print(sess.run(loss))"
   ]
  }
 ],
 "metadata": {
  "kernelspec": {
   "display_name": "Python 3",
   "language": "python",
   "name": "python3"
  },
  "language_info": {
   "codemirror_mode": {
    "name": "ipython",
    "version": 3
   },
   "file_extension": ".py",
   "mimetype": "text/x-python",
   "name": "python",
   "nbconvert_exporter": "python",
   "pygments_lexer": "ipython3",
   "version": "3.6.3"
  }
 },
 "nbformat": 4,
 "nbformat_minor": 2
}
